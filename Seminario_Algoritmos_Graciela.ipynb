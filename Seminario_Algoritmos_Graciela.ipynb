{
  "cells": [
    {
      "cell_type": "markdown",
      "metadata": {
        "id": "view-in-github",
        "colab_type": "text"
      },
      "source": [
        "<a href=\"https://colab.research.google.com/github/Graciela-ia/Algoritmos/blob/main/Seminario_Algoritmos_Graciela.ipynb\" target=\"_parent\"><img src=\"https://colab.research.google.com/assets/colab-badge.svg\" alt=\"Open In Colab\"/></a>"
      ]
    },
    {
      "cell_type": "markdown",
      "metadata": {
        "id": "hVbXYX-RfPWh"
      },
      "source": [
        "# Algoritmos de optimización - Seminario<br>\n",
        "Nombre y Apellidos: Graciela Prada Ruiz  <br>\n",
        "Url: https://github.com/.../03MAIR---Algoritmos-de-Optimizacion---2019/tree/master/SEMINARIO<br>\n",
        "Problema:\n",
        "\n",
        ">3. Combinar cifras y operaciones\n",
        "\n",
        "Descripción del problema:\n",
        "\n",
        "• El problema consiste en analizar el siguiente problema y diseñar un algoritmo que lo resuelva.<br>\n",
        "• Disponemos de las 9 cifras del 1 al 9 (excluimos el cero) y de los 4 signos básicos de las\n",
        "operaciones fundamentales: suma(+), resta(-), multiplicación(*) y división(/)<br>\n",
        "• Debemos combinarlos alternativamente sin repetir ninguno de ellos para obtener una\n",
        "cantidad dada. Un ejemplo sería para obtener el 4:<br>\n",
        "     <pre>4+2-6/3x1 = 4</pre>\n",
        "• Debe analizarse el problema para encontrar todos los valores enteros posibles planteando las\n",
        "siguientes cuestiones:\n",
        "- ¿Qué valor máximo y mínimo se pueden obtener según las condiciones del problema?\n",
        "- ¿Es posible encontrar todos los valores enteros posibles entre dicho mínimo y máximo?\n",
        "\n",
        "(*) La respuesta es obligatoria\n",
        "\n",
        "\n",
        "\n",
        "\n",
        "\n",
        "                                        "
      ]
    },
    {
      "cell_type": "code",
      "execution_count": 13,
      "metadata": {
        "id": "AiskKkzZfy4e",
        "colab": {
          "base_uri": "https://localhost:8080/"
        },
        "outputId": "60b3ee78-85d8-4450-858f-ad8080d19398"
      },
      "outputs": [
        {
          "output_type": "stream",
          "name": "stdout",
          "text": [
            "Configuración inicial completada\n",
            "Librerías importadas correctamente\n"
          ]
        }
      ],
      "source": [
        "# Configuración inicial e imports necesarios\n",
        "import random\n",
        "import json\n",
        "from math import perm, factorial\n",
        "from itertools import permutations\n",
        "\n",
        "# Configuración para mejor visualización\n",
        "import warnings\n",
        "warnings.filterwarnings('ignore')\n",
        "\n",
        "print(\"Configuración inicial completada\")\n",
        "print(\"Librerías importadas correctamente\")\n"
      ]
    },
    {
      "cell_type": "markdown",
      "metadata": {
        "id": "o5gfr6cAuTIw"
      },
      "source": [
        "## Resolución:\n",
        "### Planteamiento:\n",
        "Para resolver este problema debemos entender primero lo que nos piden: El objetivo es encontrar todas las combinaciones posibles de cifras del 1 al 9 y los operadores +, -, *, / (sin repetir ninguno), que den como resultado un número entero.\n",
        "Dado:<br>\n",
        "- Cifras: {1, 2, 3, 4, 5, 6, 7, 8, 9}<br>\n",
        "- Operadores: {'+', '-', '*', '/'}<br>\n",
        "Reglas:<br>\n",
        "- Usar cada cifra exactamente una vez.<br>\n",
        "- Usar cada operador exactamente una vez.<br>\n",
        "- Alternar cifras y operadores: por ejemplo: c + c - c / c * c ...<br>\n",
        "- No usar paréntesis.<br>\n",
        "- Evaluar la expresión sin prioridad de operadores (como se lee de izquierda a derecha).<br>\n",
        "- Buscar todos los valores enteros posibles que se pueden obtener con estas reglas.<br>\n"
      ]
    },
    {
      "cell_type": "markdown",
      "metadata": {
        "id": "6BisB3RcuTIx"
      },
      "source": [
        "Para saber el número de cifras necesarias, al tener que alternar con los operadores, serán necesarias un total de operadores más 1, para que queden alternados sin repetir:"
      ]
    },
    {
      "cell_type": "code",
      "execution_count": 14,
      "metadata": {
        "colab": {
          "base_uri": "https://localhost:8080/"
        },
        "id": "3aTW8JHyuTIx",
        "outputId": "075806aa-c91b-41d9-eef1-e25a1570ff4a"
      },
      "outputs": [
        {
          "output_type": "stream",
          "name": "stdout",
          "text": [
            "Para 4 operadores, se necesitan 5 cifras.\n"
          ]
        }
      ],
      "source": [
        "# Número de operadores disponibles\n",
        "num_operadores = len(['+', '-', '*', '/'])\n",
        "\n",
        "# Para alternar correctamente: cifra op cifra op ... cifra\n",
        "# Se necesita que:\n",
        "#   - cantidad de cifras = cantidad de operadores + 1\n",
        "\n",
        "num_cifras_necesarias = num_operadores + 1\n",
        "\n",
        "print(f\"Para {num_operadores} operadores, se necesitan {num_cifras_necesarias} cifras.\")"
      ]
    },
    {
      "cell_type": "markdown",
      "metadata": {
        "id": "3_-exlrTgLd-"
      },
      "source": [
        "(*)¿Cuantas posibilidades hay sin tener en cuenta las restricciones?<br>\n",
        "\n",
        "\n",
        "\n",
        "¿Cuantas posibilidades hay teniendo en cuenta todas las restricciones.\n",
        "\n",
        "\n"
      ]
    },
    {
      "cell_type": "markdown",
      "metadata": {
        "id": "WfCUqJyKhPcw"
      },
      "source": [
        "Respuesta"
      ]
    },
    {
      "cell_type": "markdown",
      "metadata": {
        "id": "moJ89xGQuTIx"
      },
      "source": [
        "**Si no imponemos restricciones:**\n",
        "\n",
        "Se pueden usar repetidamente cifras y operadores.\n",
        "La secuencia es: c op c op c op c op c → 5 cifras y 4 operadores\n",
        "Entonces:\n",
        "\n",
        "Cada cifra tiene 9 opciones (del 1 al 9)\n",
        "Cada operador tiene 4 opciones\n",
        "Total de combinaciones:\n",
        "9^5 × 4^4 = 59049×256=15,116,544"
      ]
    },
    {
      "cell_type": "code",
      "execution_count": 15,
      "metadata": {
        "id": "iq6Fe32MgpDX",
        "colab": {
          "base_uri": "https://localhost:8080/"
        },
        "outputId": "3dfaff09-48e4-4d91-9288-b87463a92f09"
      },
      "outputs": [
        {
          "output_type": "stream",
          "name": "stdout",
          "text": [
            "Posibilidades sin restricciones: 15116544\n"
          ]
        }
      ],
      "source": [
        "# Posibilidades sin restricciones\n",
        "total_sin_restricciones = (9**5) * (4**4)\n",
        "print(f\"Posibilidades sin restricciones: {total_sin_restricciones}\")"
      ]
    },
    {
      "cell_type": "markdown",
      "metadata": {
        "id": "gkPw5QJyuTIy"
      },
      "source": [
        "**Si tenemos en cuenta las restricciones:**\n",
        "\n",
        "\n",
        "Usar 5 cifras distintas de {1..9}\n",
        "Usar los 4 operadores , todos distintos (permutaciones)\n",
        "\n",
        "Cálculo:\n",
        "Número de permutaciones de 5 cifras de 9:\n",
        "P(9,5)= (9−5)! / 9! = 15120\n",
        "\n",
        "Número de permutaciones de los 4 operadores:\n",
        "4!=24\n",
        "\n",
        "Total de combinaciones:\n",
        "15120×24=362880"
      ]
    },
    {
      "cell_type": "code",
      "execution_count": 16,
      "metadata": {
        "colab": {
          "base_uri": "https://localhost:8080/"
        },
        "id": "4q6srHUTuTIy",
        "outputId": "2e2835f6-90bd-4839-d626-5990c39842b4"
      },
      "outputs": [
        {
          "output_type": "stream",
          "name": "stdout",
          "text": [
            "Posibilidades con restricciones: 362880\n"
          ]
        }
      ],
      "source": [
        "#from math import perm, factorial\n",
        "\n",
        "# Con restricciones\n",
        "pos_con_restricciones = perm(9,5) * factorial(4)\n",
        "print(f\"Posibilidades con restricciones: {pos_con_restricciones}\")"
      ]
    },
    {
      "cell_type": "markdown",
      "metadata": {
        "id": "dzynfVJahHoY"
      },
      "source": [
        "Modelo para el espacio de soluciones<br>\n",
        "(*) ¿Cual es la estructura de datos que mejor se adapta al problema? Argumentalo.(Es posible que hayas elegido una al principio y veas la necesidad de cambiar, argumentalo)\n"
      ]
    },
    {
      "cell_type": "markdown",
      "metadata": {
        "id": "xFIJrOwKi2Ti"
      },
      "source": [
        "Respuesta"
      ]
    },
    {
      "cell_type": "markdown",
      "metadata": {
        "id": "b6oxPs5RuTIy"
      },
      "source": [
        "La estructura de datos elegida es:\n",
        "- Tuplas de 5 números seleccionados de {1..9}, sin repetición.\n",
        "- Tuplas de 4 operadores , permutaciones de {'+', '-', '*', '/'}\n",
        "- Resultados guardados en un conjunto (set)\n",
        "\n",
        "Utilizaremos:\n",
        "- itertools.permutations: porque permite generar todas las combinaciones sin repetición.\n",
        "- set: porque evita duplicados y facilita el conteo de resultados únicos.\n",
        "- Tuplas: ya que son inmutables, ideales para claves o almacenamiento seguro."
      ]
    },
    {
      "cell_type": "code",
      "execution_count": 17,
      "metadata": {
        "id": "38c-7-ejhJmA",
        "colab": {
          "base_uri": "https://localhost:8080/"
        },
        "outputId": "9fe03e65-6dfd-4e81-81d7-9f222baf99ef"
      },
      "outputs": [
        {
          "output_type": "stream",
          "name": "stdout",
          "text": [
            "Ejemplo de una solución válida: (4, 2, 6, 3, 1), ('+', '-', '/', '*')\n"
          ]
        }
      ],
      "source": [
        "# Definición del conjunto de cifras y operadores\n",
        "cifras = list(range(1, 10))   # [1, 2, ..., 9]\n",
        "operadores = ['+', '-', '*', '/']\n",
        "\n",
        "# Estructura de datos elegida: permutaciones de 5 cifras y permutaciones de los 4 operadores\n",
        "# Esto asegura que no haya repetición de cifras ni operadores\n",
        "\n",
        "# Ejemplo de una solución válida:\n",
        "una_cifra_ejemplo = (4, 2, 6, 3, 1)        # Tupla de 5 cifras distintas\n",
        "un_operador_ejemplo = ('+', '-', '/', '*') # Tupla de 4 operadores en un orden dado\n",
        "\n",
        "# Representación de una solución completa:\n",
        "# (c1, c2, c3, c4, c5), (op1, op2, op3, op4)\n",
        "print(f\"Ejemplo de una solución válida: {una_cifra_ejemplo}, {un_operador_ejemplo}\")\n",
        "\n"
      ]
    },
    {
      "cell_type": "markdown",
      "metadata": {
        "id": "7Z9U2W7bi-XS"
      },
      "source": [
        "Según el modelo para el espacio de soluciones<br>\n",
        "(*)¿Cual es la función objetivo?\n",
        "\n",
        "(*)¿Es un problema de maximización o minimización?"
      ]
    },
    {
      "cell_type": "markdown",
      "metadata": {
        "id": "hBalWLM7j1_d"
      },
      "source": [
        "Respuesta"
      ]
    },
    {
      "cell_type": "markdown",
      "metadata": {
        "id": "NkX5CEcauTIy"
      },
      "source": [
        "Función objetivo: Dada una expresión formada por 5 cifras y 4 operadores, evaluar su resultado numérico usando evaluación izquierda a derecha."
      ]
    },
    {
      "cell_type": "code",
      "execution_count": 18,
      "metadata": {
        "colab": {
          "base_uri": "https://localhost:8080/"
        },
        "id": "xc9B8NtEuTIz",
        "outputId": "e28ce04d-1516-4230-9af2-df252d20b8de"
      },
      "outputs": [
        {
          "output_type": "stream",
          "name": "stdout",
          "text": [
            "Evaluando (4, 2, 6, 3, 1) con ('+', '-', '/', '*'): Resultado = 0.0\n"
          ]
        }
      ],
      "source": [
        "def evaluar_expresion(cifr, ops):\n",
        "    \"\"\"\n",
        "    Evalua la expresión formada por las cifras y operadores,\n",
        "    siguiendo el orden de izquierda a derecha, sin prioridad.\n",
        "    \"\"\"\n",
        "    resultado = cifr[0]\n",
        "    for i in range(4):\n",
        "        op = ops[i]\n",
        "        b = cifr[i + 1]\n",
        "        if op == '+':\n",
        "            resultado += b\n",
        "        elif op == '-':\n",
        "            resultado -= b\n",
        "        elif op == '*':\n",
        "            resultado *= b\n",
        "        elif op == '/':\n",
        "            if b == 0:\n",
        "                return None  # Evitar división por cero\n",
        "            resultado /= b\n",
        "    return resultado\n",
        "\n",
        "# Ejemplo de uso de la función con los ejemplos anteriores\n",
        "valor_resultante = evaluar_expresion(una_cifra_ejemplo, un_operador_ejemplo)\n",
        "print(f\"Evaluando {una_cifra_ejemplo} con {un_operador_ejemplo}: Resultado = {valor_resultante}\")"
      ]
    },
    {
      "cell_type": "markdown",
      "metadata": {
        "id": "TOi8SWMIuTIz"
      },
      "source": [
        "No es estrictamente un problema de optimización en sentido tradicional (no se busca maximizar ni minimizar una función), sino un problema de búsqueda exhaustiva de valores enteros alcanzables.\n",
        "\n",
        "Sin embargo, si queremos verlo como problema de optimización, podríamos definir una función objetivo que mida cómo de cerca estamos de un valor dado.\n",
        "En ese caso, sería un problema de minimización de error entre el resultado obtenido y el deseado."
      ]
    },
    {
      "cell_type": "code",
      "execution_count": 19,
      "metadata": {
        "colab": {
          "base_uri": "https://localhost:8080/"
        },
        "id": "ihGgm2uduTIz",
        "outputId": "df0f6d2c-9db3-42f5-8ec4-08ea7d139235"
      },
      "outputs": [
        {
          "output_type": "stream",
          "name": "stdout",
          "text": [
            "Mejor solución encontrada:\n",
            "Cifras: (5, 1, 7, 9, 8)\n",
            "Operadores: ('/', '+', '*', '-')\n",
            "Resultado obtenido: 100.0\n",
            "Valor objetivo: 100\n",
            "Error absoluto: 0.0\n"
          ]
        }
      ],
      "source": [
        "# Valor objetivo que queremos alcanzar\n",
        "valor_objetivo = 100\n",
        "\n",
        "# Función objetivo: calcula el error absoluto entre el resultado y el valor objetivo\n",
        "def funcion_objetivo(cifras_comb, ops_comb, objetivo):\n",
        "    resultado = evaluar_expresion(cifras_comb, ops_comb)\n",
        "    if resultado is None:\n",
        "        return float('inf')  # Penalizamos la división por cero\n",
        "    return abs(resultado - objetivo)\n",
        "\n",
        "\n",
        "# Búsqueda exhaustiva para minimizar el error\n",
        "mejor_error = float('inf')\n",
        "mejor_solucion = None\n",
        "\n",
        "for nums in permutations(cifras, 5):\n",
        "    for ops in permutations(operadores):\n",
        "        error = funcion_objetivo(nums, ops, valor_objetivo)\n",
        "        if error < mejor_error:\n",
        "            mejor_error = error\n",
        "            mejor_solucion = (nums, ops, evaluar_expresion(nums, ops))\n",
        "\n",
        "# Mostrar la mejor solución encontrada\n",
        "print(\"Mejor solución encontrada:\")\n",
        "print(f\"Cifras: {mejor_solucion[0]}\")\n",
        "print(f\"Operadores: {mejor_solucion[1]}\")\n",
        "print(f\"Resultado obtenido: {mejor_solucion[2]}\")\n",
        "print(f\"Valor objetivo: {valor_objetivo}\")\n",
        "print(f\"Error absoluto: {mejor_error}\")"
      ]
    },
    {
      "cell_type": "markdown",
      "metadata": {
        "id": "rlnTYgY1j6I2"
      },
      "source": [
        "Diseña un algoritmo para resolver el problema por fuerza bruta"
      ]
    },
    {
      "cell_type": "markdown",
      "metadata": {
        "id": "70rDgxYXkC8r"
      },
      "source": [
        "Respuesta"
      ]
    },
    {
      "cell_type": "code",
      "execution_count": 20,
      "metadata": {
        "id": "CJb5sQ0qkENy"
      },
      "outputs": [],
      "source": [
        "#Algoritmo por fuerza bruta\n",
        "\n",
        "results = set()\n",
        "\n",
        "for nums in permutations(cifras, 5):  # 15120\n",
        "    for ops in permutations(operadores):  # 24\n",
        "        value = nums[0]\n",
        "        try:\n",
        "            for i in range(4):\n",
        "                b = nums[i+1]\n",
        "                op = ops[i]\n",
        "                if op == '+': value += b\n",
        "                elif op == '-': value -= b\n",
        "                elif op == '*': value *= b\n",
        "                elif op == '/': value /= b\n",
        "            if value == int(value):\n",
        "                results.add(int(value))\n",
        "        except ZeroDivisionError:\n",
        "            continue"
      ]
    },
    {
      "cell_type": "markdown",
      "metadata": {
        "id": "tgrnsC2nkFa8"
      },
      "source": [
        "Calcula la complejidad del algoritmo por fuerza bruta"
      ]
    },
    {
      "cell_type": "markdown",
      "metadata": {
        "id": "9eUd3xwckP68"
      },
      "source": [
        "Respuesta"
      ]
    },
    {
      "cell_type": "markdown",
      "metadata": {
        "id": "shS7KT2nuTIz"
      },
      "source": [
        "Número total de iteraciones:\n",
        "P(9,5)×4!=15120×24=362880\n",
        "Cada iteración realiza 4 operaciones aritméticas → O(1) por iteración\n",
        "Complejidad temporal:\n",
        "\n",
        "O(P(9,5)⋅4!)=O(362880)\n",
        "Espacio:\n",
        "\n",
        "Almacenamiento de resultados: O(k), donde k es el número de enteros diferentes obtenidos (en práctica < 1000)"
      ]
    },
    {
      "cell_type": "code",
      "execution_count": 21,
      "metadata": {
        "id": "rvZWwL-ckRST",
        "colab": {
          "base_uri": "https://localhost:8080/"
        },
        "outputId": "ad2519d5-21dc-4a1c-a629-e65fe4aec562"
      },
      "outputs": [
        {
          "output_type": "stream",
          "name": "stdout",
          "text": [
            "Cálculo de la complejidad del algoritmo por fuerza bruta:\n",
            "Número de permutaciones de 5 cifras de 9: P(9, 5) = 15120\n",
            "Número de permutaciones de 4 operadores: 4! = 24\n",
            "Total de combinaciones a evaluar: 362880\n",
            "\n",
            "Complejidad del algoritmo por fuerza bruta:\n",
            "O(P(n, k) x m!) → donde:\n",
            "  n = 9 (total de cifras)\n",
            "  k = 5 (cifras seleccionadas)\n",
            "  m = 4 (operadores)\n",
            "\n",
            "Justificación:\n",
            "El algoritmo prueba todas las combinaciones posibles de 5 cifras distintas\n",
            "del conjunto {1..9} y todas las permutaciones de los 4 operadores básicos.\n",
            "Cada una de estas combinaciones requiere una evaluación aritmética de 4 pasos.\n",
            "Por lo tanto, la complejidad es proporcional al número total de combinaciones.\n"
          ]
        }
      ],
      "source": [
        "# Número de cifras disponibles (1 al 9)\n",
        "total_cifras = 9\n",
        "\n",
        "# Seleccionamos 5 cifras sin repetición\n",
        "num_cifras_seleccionadas = 5\n",
        "\n",
        "# Número de operadores disponibles (+, -, *, /)\n",
        "num_operadores = 4\n",
        "\n",
        "# Cálculo del número total de combinaciones posibles\n",
        "permutaciones_cifras = perm(total_cifras, num_cifras_seleccionadas)  # P(9,5)\n",
        "permutaciones_operadores = factorial(num_operadores)                # 4!\n",
        "\n",
        "# Total de expresiones a evaluar\n",
        "total_combinaciones = permutaciones_cifras * permutaciones_operadores\n",
        "\n",
        "# Complejidad asintótica en notación O grande\n",
        "print(\"Cálculo de la complejidad del algoritmo por fuerza bruta:\")\n",
        "print(f\"Número de permutaciones de 5 cifras de {total_cifras}: P({total_cifras}, {num_cifras_seleccionadas}) = {permutaciones_cifras}\")\n",
        "print(f\"Número de permutaciones de {num_operadores} operadores: {num_operadores}! = {permutaciones_operadores}\")\n",
        "print(f\"Total de combinaciones a evaluar: {total_combinaciones}\")\n",
        "\n",
        "# Mostramos la complejidad en notación Big O\n",
        "print(\"\\nComplejidad del algoritmo por fuerza bruta:\")\n",
        "print(\"O(P(n, k) x m!) → donde:\")\n",
        "print(f\"  n = {total_cifras} (total de cifras)\")\n",
        "print(f\"  k = {num_cifras_seleccionadas} (cifras seleccionadas)\")\n",
        "print(f\"  m = {num_operadores} (operadores)\")\n",
        "\n",
        "# Justificación\n",
        "print(\"\\nJustificación:\")\n",
        "print(\"El algoritmo prueba todas las combinaciones posibles de 5 cifras distintas\")\n",
        "print(\"del conjunto {1..9} y todas las permutaciones de los 4 operadores básicos.\")\n",
        "print(\"Cada una de estas combinaciones requiere una evaluación aritmética de 4 pasos.\")\n",
        "print(\"Por lo tanto, la complejidad es proporcional al número total de combinaciones.\")"
      ]
    },
    {
      "cell_type": "markdown",
      "metadata": {
        "id": "txbrmLmskReM"
      },
      "source": [
        "(*)Diseña un algoritmo que mejore la complejidad del algortimo por fuerza bruta. Argumenta porque crees que mejora el algoritmo por fuerza bruta"
      ]
    },
    {
      "cell_type": "markdown",
      "metadata": {
        "id": "hLrVwt5QkZPD"
      },
      "source": [
        "Respuesta"
      ]
    },
    {
      "cell_type": "markdown",
      "metadata": {
        "id": "_-hRMMy8uTI1"
      },
      "source": [
        "Para mejorar la complejidad del algoritmo por fuerza bruta podemos reducir el número de evaluaciones necesarias, aplicando ténica de poda temprana, ya que si detectamos que el valor intermedio ya es demasiado grande o claramente no entero, dejamos de evaluar esa expresión. Ademas, saltamos las combinaciones donde haya división por cero."
      ]
    },
    {
      "cell_type": "code",
      "execution_count": 22,
      "metadata": {
        "id": "m1eyM21Vkabg"
      },
      "outputs": [],
      "source": [
        "# Función que evalúa una expresión con poda temprana\n",
        "def evaluar_con_poda(cifras_comb, ops_comb, limite=100000):\n",
        "    try:\n",
        "        valor = cifras_comb[0]\n",
        "        for i in range(4):\n",
        "            op = ops_comb[i]\n",
        "            b = cifras_comb[i + 1]\n",
        "            if op == '+':\n",
        "                valor += b\n",
        "            elif op == '-':\n",
        "                valor -= b\n",
        "            elif op == '*':\n",
        "                valor *= b\n",
        "            elif op == '/':\n",
        "                valor /= b\n",
        "            # Poda temprana si el valor es demasiado grande\n",
        "            if abs(valor) > limite:\n",
        "                return None, \"poda\"\n",
        "        return valor, \"entero\" if valor == int(valor) else \"no_entero\"\n",
        "    except ZeroDivisionError:\n",
        "        return None, \"division_por_cero\""
      ]
    },
    {
      "cell_type": "markdown",
      "metadata": {
        "id": "eGDB4K6uk1iN"
      },
      "source": [
        "(*)Calcula la complejidad del algoritmo"
      ]
    },
    {
      "cell_type": "markdown",
      "metadata": {
        "id": "NhpTh_BPk1ms"
      },
      "source": [
        "Respuesta"
      ]
    },
    {
      "cell_type": "code",
      "execution_count": 23,
      "metadata": {
        "id": "nREzhkStlCq8",
        "colab": {
          "base_uri": "https://localhost:8080/"
        },
        "outputId": "28f26ead-3f6a-4bb5-d13a-9c2f7c9d435c"
      },
      "outputs": [
        {
          "output_type": "stream",
          "name": "stdout",
          "text": [
            "Complejidad del algoritmo mejorado\n",
            "──────────────────────────────────\n",
            "Número total de combinaciones posibles: 362880\n",
            "Porcentaje estimado de poda temprana: 25.0%\n",
            "Número efectivo de evaluaciones completas: 272160\n",
            "\n",
            "Complejidad:\n",
            "En notación O grande:\n",
            "  Peor caso: O(P(n, k) x m!) → O(362880)\n",
            "  Caso promedio (con poda): ~75% del peor caso\n",
            "  Donde n=9, k=5, m=4\n",
            "\n",
            "Justificación:\n",
            "Aunque el número total de combinaciones sigue siendo el mismo que en la fuerza bruta,\n",
            "la poda temprana permite evitar evaluar completamente ciertas expresiones.\n",
            "Esto reduce el tiempo real de ejecución, aunque la complejidad teórica permanezca invariable.\n"
          ]
        }
      ],
      "source": [
        "# Parámetros del problema\n",
        "total_cifras = 9\n",
        "num_cifras_seleccionadas = 5\n",
        "num_operadores = 4\n",
        "\n",
        "# Cálculos combinatorios\n",
        "permutaciones_cifras = perm(total_cifras, num_cifras_seleccionadas)\n",
        "permutaciones_operadores = factorial(num_operadores)\n",
        "total_combinaciones = permutaciones_cifras * permutaciones_operadores\n",
        "\n",
        "# Estimación de la mejora debido a la poda temprana\n",
        "# Supongamos un porcentaje estimado de poda (ajustable)\n",
        "porcentaje_poda_estimado = 0.25  # 25% de evaluaciones evitadas\n",
        "\n",
        "# Número efectivo de evaluaciones completas\n",
        "evaluaciones_efectivas = total_combinaciones * (1 - porcentaje_poda_estimado)\n",
        "\n",
        "print(\"Complejidad del algoritmo mejorado\")\n",
        "print(\"─\" * 34)\n",
        "print(f\"Número total de combinaciones posibles: {total_combinaciones}\")\n",
        "print(f\"Porcentaje estimado de poda temprana: {porcentaje_poda_estimado * 100}%\")\n",
        "print(f\"Número efectivo de evaluaciones completas: {int(evaluaciones_efectivas)}\")\n",
        "print(\"\\nComplejidad:\")\n",
        "print(\"En notación O grande:\")\n",
        "print(\"  Peor caso: O(P(n, k) x m!) → O(362880)\")\n",
        "print(\"  Caso promedio (con poda): ~75% del peor caso\")\n",
        "print(\"  Donde n=9, k=5, m=4\")\n",
        "\n",
        "print(\"\\nJustificación:\")\n",
        "print(\"Aunque el número total de combinaciones sigue siendo el mismo que en la fuerza bruta,\")\n",
        "print(\"la poda temprana permite evitar evaluar completamente ciertas expresiones.\")\n",
        "print(\"Esto reduce el tiempo real de ejecución, aunque la complejidad teórica permanezca invariable.\")"
      ]
    },
    {
      "cell_type": "markdown",
      "metadata": {
        "id": "3M6QjTsSkmYe"
      },
      "source": [
        "Según el problema (y tenga sentido), diseña un juego de datos de entrada aleatorios"
      ]
    },
    {
      "cell_type": "markdown",
      "metadata": {
        "id": "Jc3_OlyNkvjZ"
      },
      "source": [
        "Respuesta"
      ]
    },
    {
      "cell_type": "code",
      "execution_count": 24,
      "metadata": {
        "id": "sJ-N2etjkyWc",
        "colab": {
          "base_uri": "https://localhost:8080/"
        },
        "outputId": "733aabb9-e9f7-4b94-a707-d9befbc85f59"
      },
      "outputs": [
        {
          "output_type": "stream",
          "name": "stdout",
          "text": [
            "Generando conjunto de juegos de datos:\n",
            "========================================\n",
            "Juego 1:\n",
            "  Cifras: (7, 3, 5, 2, 8)\n",
            "  Operadores: ('/', '+', '-', '*')\n",
            "Juego 2:\n",
            "  Cifras: (5, 8, 6, 9, 1)\n",
            "  Operadores: ('-', '*', '/', '+')\n",
            "Juego 3:\n",
            "  Cifras: (8, 2, 4, 7, 1)\n",
            "  Operadores: ('/', '+', '-', '*')\n",
            "Juego 4:\n",
            "  Cifras: (3, 5, 9, 7, 2)\n",
            "  Operadores: ('+', '/', '*', '-')\n",
            "Juego 5:\n",
            "  Cifras: (7, 9, 3, 5, 6)\n",
            "  Operadores: ('+', '*', '-', '/')\n",
            "Juego 6:\n",
            "  Cifras: (8, 4, 1, 7, 2)\n",
            "  Operadores: ('*', '-', '/', '+')\n",
            "Juego 7:\n",
            "  Cifras: (2, 8, 7, 6, 3)\n",
            "  Operadores: ('/', '-', '*', '+')\n",
            "Juego 8:\n",
            "  Cifras: (8, 4, 1, 6, 5)\n",
            "  Operadores: ('-', '*', '/', '+')\n",
            "Juego 9:\n",
            "  Cifras: (5, 4, 1, 2, 7)\n",
            "  Operadores: ('+', '-', '*', '/')\n",
            "Juego 10:\n",
            "  Cifras: (3, 6, 4, 9, 2)\n",
            "  Operadores: ('+', '/', '*', '-')\n",
            "Juego 11:\n",
            "  Cifras: (5, 9, 2, 8, 3)\n",
            "  Operadores: ('-', '*', '/', '+')\n",
            "Juego 12:\n",
            "  Cifras: (1, 3, 7, 9, 4)\n",
            "  Operadores: ('/', '*', '+', '-')\n",
            "Juego 13:\n",
            "  Cifras: (1, 3, 6, 8, 9)\n",
            "  Operadores: ('/', '+', '-', '*')\n",
            "Juego 14:\n",
            "  Cifras: (5, 1, 8, 3, 2)\n",
            "  Operadores: ('-', '*', '+', '/')\n",
            "Juego 15:\n",
            "  Cifras: (8, 3, 9, 6, 2)\n",
            "  Operadores: ('-', '/', '*', '+')\n",
            "Juego 16:\n",
            "  Cifras: (1, 4, 5, 2, 6)\n",
            "  Operadores: ('/', '*', '+', '-')\n",
            "Juego 17:\n",
            "  Cifras: (9, 6, 4, 3, 2)\n",
            "  Operadores: ('-', '/', '+', '*')\n",
            "Juego 18:\n",
            "  Cifras: (9, 1, 5, 4, 6)\n",
            "  Operadores: ('*', '/', '+', '-')\n",
            "Juego 19:\n",
            "  Cifras: (4, 8, 9, 7, 2)\n",
            "  Operadores: ('-', '+', '*', '/')\n",
            "Juego 20:\n",
            "  Cifras: (5, 1, 9, 7, 2)\n",
            "  Operadores: ('*', '-', '/', '+')\n"
          ]
        }
      ],
      "source": [
        "\n",
        "# Generar un juego de datos aleatorio\n",
        "def generar_juego_aleatorio():\n",
        "    nums = tuple(random.sample(cifras, 5))  # 5 cifras distintas\n",
        "    ops = tuple(random.sample(operadores, 4))  # 4 operadores en orden aleatorio\n",
        "    return nums, ops\n",
        "\n",
        "# Generar y almacenar múltiples juegos de datos\n",
        "def generar_conjunto_juegos(n=20):\n",
        "    \"\"\"Genera n juegos aleatorios y los almacena en una lista\"\"\"\n",
        "    juegos = []\n",
        "    for i in range(n):\n",
        "        nums, ops = generar_juego_aleatorio()\n",
        "        juegos.append((nums, ops))\n",
        "        print(f\"Juego {i+1}:\")\n",
        "        print(f\"  Cifras: {nums}\")\n",
        "        print(f\"  Operadores: {ops}\")\n",
        "    return juegos\n",
        "\n",
        "# Generar y almacenar 10 juegos aleatorios\n",
        "print(\"Generando conjunto de juegos de datos:\")\n",
        "print(\"=\" * 40)\n",
        "juegos_almacenados = generar_conjunto_juegos(20)"
      ]
    },
    {
      "cell_type": "markdown",
      "metadata": {
        "id": "zy5ZROmjlGo1"
      },
      "source": [
        "Aplica el algoritmo al juego de datos generado"
      ]
    },
    {
      "cell_type": "markdown",
      "metadata": {
        "id": "_Cmj-PVylMsa"
      },
      "source": [
        "Respuesta"
      ]
    },
    {
      "cell_type": "code",
      "execution_count": 26,
      "metadata": {
        "id": "Jkx8GeiYlUz1",
        "colab": {
          "base_uri": "https://localhost:8080/"
        },
        "outputId": "ed211a01-f185-44a7-d06f-4f83663ec159"
      },
      "outputs": [
        {
          "output_type": "stream",
          "name": "stdout",
          "text": [
            "\n",
            "Aplicando algoritmo a los juegos almacenados:\n",
            "==================================================\n",
            "Aplicando algoritmo a 20 juegos almacenados:\n",
            "\n",
            "Juego 1:\n",
            "  Cifras: (7, 3, 5, 2, 8)\n",
            "  Operadores: ('/', '+', '-', '*')\n",
            "  Resultado: 42.66666666666667\n",
            "  ✗ NO - No es un número entero.\n",
            "----------------------------------------\n",
            "Juego 2:\n",
            "  Cifras: (5, 8, 6, 9, 1)\n",
            "  Operadores: ('-', '*', '/', '+')\n",
            "  Resultado: -1.0\n",
            "  ✓ SÍ - Es un número entero.\n",
            "----------------------------------------\n",
            "Juego 3:\n",
            "  Cifras: (8, 2, 4, 7, 1)\n",
            "  Operadores: ('/', '+', '-', '*')\n",
            "  Resultado: 1.0\n",
            "  ✓ SÍ - Es un número entero.\n",
            "----------------------------------------\n",
            "Juego 4:\n",
            "  Cifras: (3, 5, 9, 7, 2)\n",
            "  Operadores: ('+', '/', '*', '-')\n",
            "  Resultado: 4.222222222222221\n",
            "  ✗ NO - No es un número entero.\n",
            "----------------------------------------\n",
            "Juego 5:\n",
            "  Cifras: (7, 9, 3, 5, 6)\n",
            "  Operadores: ('+', '*', '-', '/')\n",
            "  Resultado: 7.166666666666667\n",
            "  ✗ NO - No es un número entero.\n",
            "----------------------------------------\n",
            "Juego 6:\n",
            "  Cifras: (8, 4, 1, 7, 2)\n",
            "  Operadores: ('*', '-', '/', '+')\n",
            "  Resultado: 6.428571428571429\n",
            "  ✗ NO - No es un número entero.\n",
            "----------------------------------------\n",
            "Juego 7:\n",
            "  Cifras: (2, 8, 7, 6, 3)\n",
            "  Operadores: ('/', '-', '*', '+')\n",
            "  Resultado: -37.5\n",
            "  ✗ NO - No es un número entero.\n",
            "----------------------------------------\n",
            "Juego 8:\n",
            "  Cifras: (8, 4, 1, 6, 5)\n",
            "  Operadores: ('-', '*', '/', '+')\n",
            "  Resultado: 5.666666666666667\n",
            "  ✗ NO - No es un número entero.\n",
            "----------------------------------------\n",
            "Juego 9:\n",
            "  Cifras: (5, 4, 1, 2, 7)\n",
            "  Operadores: ('+', '-', '*', '/')\n",
            "  Resultado: 2.2857142857142856\n",
            "  ✗ NO - No es un número entero.\n",
            "----------------------------------------\n",
            "Juego 10:\n",
            "  Cifras: (3, 6, 4, 9, 2)\n",
            "  Operadores: ('+', '/', '*', '-')\n",
            "  Resultado: 18.25\n",
            "  ✗ NO - No es un número entero.\n",
            "----------------------------------------\n",
            "Juego 11:\n",
            "  Cifras: (5, 9, 2, 8, 3)\n",
            "  Operadores: ('-', '*', '/', '+')\n",
            "  Resultado: 2.0\n",
            "  ✓ SÍ - Es un número entero.\n",
            "----------------------------------------\n",
            "Juego 12:\n",
            "  Cifras: (1, 3, 7, 9, 4)\n",
            "  Operadores: ('/', '*', '+', '-')\n",
            "  Resultado: 7.333333333333332\n",
            "  ✗ NO - No es un número entero.\n",
            "----------------------------------------\n",
            "Juego 13:\n",
            "  Cifras: (1, 3, 6, 8, 9)\n",
            "  Operadores: ('/', '+', '-', '*')\n",
            "  Resultado: -15.000000000000004\n",
            "  ✗ NO - No es un número entero.\n",
            "----------------------------------------\n",
            "Juego 14:\n",
            "  Cifras: (5, 1, 8, 3, 2)\n",
            "  Operadores: ('-', '*', '+', '/')\n",
            "  Resultado: 17.5\n",
            "  ✗ NO - No es un número entero.\n",
            "----------------------------------------\n",
            "Juego 15:\n",
            "  Cifras: (8, 3, 9, 6, 2)\n",
            "  Operadores: ('-', '/', '*', '+')\n",
            "  Resultado: 5.333333333333334\n",
            "  ✗ NO - No es un número entero.\n",
            "----------------------------------------\n",
            "Juego 16:\n",
            "  Cifras: (1, 4, 5, 2, 6)\n",
            "  Operadores: ('/', '*', '+', '-')\n",
            "  Resultado: -2.75\n",
            "  ✗ NO - No es un número entero.\n",
            "----------------------------------------\n",
            "Juego 17:\n",
            "  Cifras: (9, 6, 4, 3, 2)\n",
            "  Operadores: ('-', '/', '+', '*')\n",
            "  Resultado: 7.5\n",
            "  ✗ NO - No es un número entero.\n",
            "----------------------------------------\n",
            "Juego 18:\n",
            "  Cifras: (9, 1, 5, 4, 6)\n",
            "  Operadores: ('*', '/', '+', '-')\n",
            "  Resultado: -0.20000000000000018\n",
            "  ✗ NO - No es un número entero.\n",
            "----------------------------------------\n",
            "Juego 19:\n",
            "  Cifras: (4, 8, 9, 7, 2)\n",
            "  Operadores: ('-', '+', '*', '/')\n",
            "  Resultado: 17.5\n",
            "  ✗ NO - No es un número entero.\n",
            "----------------------------------------\n",
            "Juego 20:\n",
            "  Cifras: (5, 1, 9, 7, 2)\n",
            "  Operadores: ('*', '-', '/', '+')\n",
            "  Resultado: 1.4285714285714286\n",
            "  ✗ NO - No es un número entero.\n",
            "----------------------------------------\n"
          ]
        }
      ],
      "source": [
        "\n",
        "# Aplicar algoritmo a juegos previamente almacenados\n",
        "def aplicar_algoritmo_a_juegos_almacenados(juegos_datos):\n",
        "    \"\"\"Aplica el algoritmo de evaluación a un conjunto de juegos previamente generados\"\"\"\n",
        "    print(f\"Aplicando algoritmo a {len(juegos_datos)} juegos almacenados:\\n\")\n",
        "    resultados = []\n",
        "\n",
        "    for i, (nums, ops) in enumerate(juegos_datos):\n",
        "        resultado, tipo = evaluar_con_poda(nums, ops)\n",
        "\n",
        "        # Almacenar el resultado completo\n",
        "        resultado_completo = {\n",
        "            'juego_id': i + 1,\n",
        "            'cifras': nums,\n",
        "            'operadores': ops,\n",
        "            'resultado': resultado,\n",
        "            'tipo': tipo,\n",
        "            'es_entero': resultado == int(resultado) if tipo not in [\"poda\", \"division_por_cero\"] else False\n",
        "        }\n",
        "        resultados.append(resultado_completo)\n",
        "\n",
        "        print(f\"Juego {i+1}:\")\n",
        "        print(f\"  Cifras: {nums}\")\n",
        "        print(f\"  Operadores: {ops}\")\n",
        "\n",
        "        if tipo == \"poda\":\n",
        "            print(\"  → Valor excedido. Evaluación abortada (poda temprana).\")\n",
        "        elif tipo == \"division_por_cero\":\n",
        "            print(\"  → División por cero. Expresión inválida.\")\n",
        "        else:\n",
        "            print(f\"  Resultado: {resultado}\")\n",
        "            if resultado == int(resultado):\n",
        "                print(\"  ✓ SÍ - Es un número entero.\")\n",
        "            else:\n",
        "                print(\"  ✗ NO - No es un número entero.\")\n",
        "        print(\"-\" * 40)\n",
        "\n",
        "    return resultados\n",
        "\n",
        "# Aplicar el algoritmo a los juegos previamente almacenados\n",
        "print(\"\\nAplicando algoritmo a los juegos almacenados:\")\n",
        "print(\"=\" * 50)\n",
        "resultados_obtenidos = aplicar_algoritmo_a_juegos_almacenados(juegos_almacenados)"
      ]
    },
    {
      "cell_type": "code",
      "execution_count": 27,
      "metadata": {
        "colab": {
          "base_uri": "https://localhost:8080/"
        },
        "id": "LkceFIlHuTI4",
        "outputId": "b2b5ffa2-cc7c-4ba1-b9af-28a4f1eb2046"
      },
      "outputs": [
        {
          "output_type": "stream",
          "name": "stdout",
          "text": [
            "\n",
            "==================================================\n",
            "ANÁLISIS DE RESULTADOS\n",
            "==================================================\n",
            "Total de juegos evaluados: 20\n",
            "Resultados enteros obtenidos: 3\n",
            "Divisiones por cero: 0\n",
            "Evaluaciones con poda temprana: 0\n",
            "\n",
            "VALORES ENTEROS ENCONTRADOS:\n",
            "  Juego 2: -1.0\n",
            "  Juego 3: 1.0\n",
            "  Juego 11: 2.0\n",
            "\n",
            "Valore únicos enteros: [-1, 1, 2]\n",
            "Cantidad de valores únicos: 3\n"
          ]
        }
      ],
      "source": [
        "# Análisis de los resultados obtenidos\n",
        "def analizar_resultados(resultados):\n",
        "    \"\"\"Analiza los resultados obtenidos de los juegos evaluados\"\"\"\n",
        "    total_juegos = len(resultados)\n",
        "    enteros_obtenidos = [r for r in resultados if r['es_entero']]\n",
        "    divisiones_por_cero = [r for r in resultados if r['tipo'] == 'division_por_cero']\n",
        "    podas = [r for r in resultados if r['tipo'] == 'poda']\n",
        "\n",
        "    print(\"\\n\" + \"=\" * 50)\n",
        "    print(\"ANÁLISIS DE RESULTADOS\")\n",
        "    print(\"=\" * 50)\n",
        "    print(f\"Total de juegos evaluados: {total_juegos}\")\n",
        "    print(f\"Resultados enteros obtenidos: {len(enteros_obtenidos)}\")\n",
        "    print(f\"Divisiones por cero: {len(divisiones_por_cero)}\")\n",
        "    print(f\"Evaluaciones con poda temprana: {len(podas)}\")\n",
        "\n",
        "    if enteros_obtenidos:\n",
        "        print(\"\\nVALORES ENTEROS ENCONTRADOS:\")\n",
        "        for resultado in enteros_obtenidos:\n",
        "            print(f\"  Juego {resultado['juego_id']}: {resultado['resultado']}\")\n",
        "\n",
        "        valores_unicos = set([int(r['resultado']) for r in enteros_obtenidos])\n",
        "        print(f\"\\nValore únicos enteros: {sorted(valores_unicos)}\")\n",
        "        print(f\"Cantidad de valores únicos: {len(valores_unicos)}\")\n",
        "\n",
        "    return {\n",
        "        'total': total_juegos,\n",
        "        'enteros': len(enteros_obtenidos),\n",
        "        'divisiones_cero': len(divisiones_por_cero),\n",
        "        'podas': len(podas),\n",
        "        'valores_unicos': sorted(set([int(r['resultado']) for r in enteros_obtenidos])) if enteros_obtenidos else []\n",
        "    }\n",
        "\n",
        "# Realizar análisis de los resultados\n",
        "estadisticas = analizar_resultados(resultados_obtenidos)"
      ]
    },
    {
      "cell_type": "markdown",
      "metadata": {
        "id": "eTFWUJQrtGcv"
      },
      "source": [
        "Enumera las referencias que has utilizado(si ha sido necesario) para llevar a cabo el trabajo"
      ]
    },
    {
      "cell_type": "markdown",
      "metadata": {
        "id": "YKQ_mRBttWsP"
      },
      "source": [
        "Respuesta\n",
        "\n",
        "**Referencias utilizadas:**\n",
        "\n",
        "1. Documentación oficial de Python - https://docs.python.org/3/library/itertools para el uso de:\n",
        "   - `itertools.permutations()` para generar permutaciones sin repetición\n",
        "   - `math.perm()` y `math.factorial()` para cálculos combinatorios\n",
        "   - Manejo de excepciones (try/except) para división por cero\n",
        "\n",
        "2. Artículo sobre evaluación de expresiones matemáticas en Python: https://realpython.com/python-eval-function/\n",
        "\n",
        "3. Temario de la asignatura y apuntes de clase:  \n",
        "   - Algoritmos de fuerza bruta y búsqueda exhaustiva\n",
        "   - Técnicas de poda temprana para optimización\n",
        "   - Análisis de complejidad temporal y espacial\n",
        "\n"
      ]
    },
    {
      "cell_type": "markdown",
      "metadata": {
        "id": "kAkDPUyRtYyH"
      },
      "source": [
        "Describe brevemente las lineas de como crees que es posible avanzar en el estudio del problema. Ten en cuenta incluso posibles variaciones del problema y/o variaciones al alza del tamaño"
      ]
    },
    {
      "cell_type": "markdown",
      "metadata": {
        "id": "IE0uZmo-tZu-"
      },
      "source": [
        "Respuesta\n",
        "\n",
        "**Líneas futuras de investigación y variaciones del problema:**\n",
        "\n",
        "Podemos pensar en extender el espacio de soluciones considerando más cifras (por ejemplo, incluir el 0 o usar todas las cifras del 0 al 9) y permitir expresiones más largas con más operadores. También sería interesante introducir nuevas operaciones como la potenciación, el módulo o incluso funciones matemáticas como raíces cuadradas, lo que abriría nuevas posibilidades de cálculo y aumentaría significativamente la riqueza del conjunto de resultados obtenibles.\n",
        "\n",
        "Otra variación interesante es permitir el uso de paréntesis, lo cual cambia completamente la forma de evaluar las expresiones y añade una nueva capa de complejidad tanto en la representación de las soluciones como en los algoritmos utilizados. Asimismo, podríamos estudiar versiones del problema donde se permita repetir cifras u operadores, lo que modificaría drásticamente el espacio de búsqueda.\n",
        "\n",
        "Desde el punto de vista de la aplicación práctica, también podemos reformular el problema como uno de búsqueda de un objetivo específico, en lugar de explorar todos los valores alcanzables. Esto nos llevaría a replantear el algoritmo desde una perspectiva de optimización: encontrar la expresión que se acerque más a un valor dado. Este cambio de enfoque abre la puerta al uso de técnicas como algoritmos genéticos, hill climbing o backtracking con heurísticas, especialmente útiles cuando el tamaño del problema crece.\n",
        "\n",
        "Para mejorar el rendimiento del algoritmo, se pueden implementar estrategias como programación dinámica para evitar recalcular expresiones parciales, o poda temprana avanzada basada en modelos predictivos del comportamiento numérico."
      ]
    }
  ],
  "metadata": {
    "colab": {
      "provenance": [],
      "include_colab_link": true
    },
    "kernelspec": {
      "display_name": "Python 3",
      "name": "python3"
    },
    "language_info": {
      "codemirror_mode": {
        "name": "ipython",
        "version": 3
      },
      "file_extension": ".py",
      "mimetype": "text/x-python",
      "name": "python",
      "nbconvert_exporter": "python",
      "pygments_lexer": "ipython3",
      "version": "3.13.1"
    }
  },
  "nbformat": 4,
  "nbformat_minor": 0
}