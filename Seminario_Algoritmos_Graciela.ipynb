{
  "cells": [
    {
      "cell_type": "markdown",
      "metadata": {
        "id": "view-in-github",
        "colab_type": "text"
      },
      "source": [
        "<a href=\"https://colab.research.google.com/github/Graciela-ia/Algoritmos/blob/main/Seminario_Algoritmos_Graciela.ipynb\" target=\"_parent\"><img src=\"https://colab.research.google.com/assets/colab-badge.svg\" alt=\"Open In Colab\"/></a>"
      ]
    },
    {
      "cell_type": "markdown",
      "metadata": {
        "id": "hVbXYX-RfPWh"
      },
      "source": [
        "# Algoritmos de optimización - Seminario<br>\n",
        "Nombre y Apellidos: Graciela Prada Ruiz  <br>\n",
        "Url: https://github.com/Graciela-ia/Algoritmos/blob/main/Seminario_Algoritmos_Graciela.ipynb<br>\n",
        "Problema:\n",
        "\n",
        ">3. Combinar cifras y operaciones\n",
        "\n",
        "Descripción del problema:\n",
        "\n",
        "• El problema consiste en analizar el siguiente problema y diseñar un algoritmo que lo resuelva.<br>\n",
        "• Disponemos de las 9 cifras del 1 al 9 (excluimos el cero) y de los 4 signos básicos de las\n",
        "operaciones fundamentales: suma(+), resta(-), multiplicación(*) y división(/)<br>\n",
        "• Debemos combinarlos alternativamente sin repetir ninguno de ellos para obtener una\n",
        "cantidad dada. Un ejemplo sería para obtener el 4:<br>\n",
        "     <pre>4+2-6/3x1 = 4</pre>\n",
        "• Debe analizarse el problema para encontrar todos los valores enteros posibles planteando las\n",
        "siguientes cuestiones:\n",
        "- ¿Qué valor máximo y mínimo se pueden obtener según las condiciones del problema?\n",
        "- ¿Es posible encontrar todos los valores enteros posibles entre dicho mínimo y máximo?\n",
        "\n",
        "(*) La respuesta es obligatoria\n",
        "\n",
        "\n",
        "\n",
        "\n",
        "\n",
        "                                        "
      ]
    },
    {
      "cell_type": "code",
      "execution_count": 1,
      "metadata": {
        "colab": {
          "base_uri": "https://localhost:8080/"
        },
        "id": "AiskKkzZfy4e",
        "outputId": "0800c966-ce46-4bb4-8800-4cf4e811d676"
      },
      "outputs": [
        {
          "output_type": "stream",
          "name": "stdout",
          "text": [
            "Configuración inicial completada\n",
            "Librerías importadas correctamente\n"
          ]
        }
      ],
      "source": [
        "# Configuración inicial e imports necesarios\n",
        "import random\n",
        "import json\n",
        "from math import perm, factorial, inf\n",
        "from itertools import permutations\n",
        "\n",
        "# Configuración para mejor visualización\n",
        "import warnings\n",
        "warnings.filterwarnings('ignore')\n",
        "\n",
        "print(\"Configuración inicial completada\")\n",
        "print(\"Librerías importadas correctamente\")\n"
      ]
    },
    {
      "cell_type": "markdown",
      "metadata": {
        "id": "o5gfr6cAuTIw"
      },
      "source": [
        "## Resolución:\n",
        "### Planteamiento:\n",
        "Para resolver este problema debemos entender primero lo que nos piden: El objetivo es encontrar todas las combinaciones posibles de cifras del 1 al 9 y los operadores +, -, *, / (sin repetir ninguno), que den como resultado un número entero.\n",
        "Dado:<br>\n",
        "- Cifras: {1, 2, 3, 4, 5, 6, 7, 8, 9}<br>\n",
        "- Operadores: {'+', '-', '*', '/'}<br>\n",
        "Reglas:<br>\n",
        "- Usar cada cifra exactamente una vez.<br>\n",
        "- Usar cada operador exactamente una vez.<br>\n",
        "- Alternar cifras y operadores: por ejemplo: c + c - c / c * c ...<br>\n",
        "- No usar paréntesis.<br>\n",
        "- Evaluar la expresión sin prioridad de operadores (como se lee de izquierda a derecha).<br>\n",
        "- Buscar todos los valores enteros posibles que se pueden obtener con estas reglas.<br>\n"
      ]
    },
    {
      "cell_type": "markdown",
      "metadata": {
        "id": "6BisB3RcuTIx"
      },
      "source": [
        "Para saber el número de cifras necesarias, al tener que alternar con los operadores, serán necesarias un total de operadores más 1, para que queden alternados sin repetir:"
      ]
    },
    {
      "cell_type": "code",
      "execution_count": 2,
      "metadata": {
        "colab": {
          "base_uri": "https://localhost:8080/"
        },
        "id": "3aTW8JHyuTIx",
        "outputId": "fe7c02cb-bc70-4dda-8787-7352b6a942be"
      },
      "outputs": [
        {
          "output_type": "stream",
          "name": "stdout",
          "text": [
            "Para 4 operadores, se necesitan 5 cifras.\n"
          ]
        }
      ],
      "source": [
        "# Número de operadores disponibles\n",
        "num_operadores = len(['+', '-', '*', '/'])\n",
        "\n",
        "# Para alternar correctamente: cifra op cifra op ... cifra\n",
        "# Se necesita que:\n",
        "#   - cantidad de cifras = cantidad de operadores + 1\n",
        "\n",
        "num_cifras_necesarias = num_operadores + 1\n",
        "\n",
        "print(f\"Para {num_operadores} operadores, se necesitan {num_cifras_necesarias} cifras.\")"
      ]
    },
    {
      "cell_type": "markdown",
      "metadata": {
        "id": "3_-exlrTgLd-"
      },
      "source": [
        "(*)¿Cuantas posibilidades hay sin tener en cuenta las restricciones?<br>\n",
        "\n",
        "\n",
        "\n",
        "¿Cuantas posibilidades hay teniendo en cuenta todas las restricciones.\n",
        "\n",
        "\n"
      ]
    },
    {
      "cell_type": "markdown",
      "metadata": {
        "id": "WfCUqJyKhPcw"
      },
      "source": [
        "Respuesta"
      ]
    },
    {
      "cell_type": "markdown",
      "metadata": {
        "id": "moJ89xGQuTIx"
      },
      "source": [
        "**Si no imponemos restricciones:**\n",
        "\n",
        "Se pueden usar repetidamente cifras y operadores.\n",
        "La secuencia es: c op c op c op c op c → 5 cifras y 4 operadores\n",
        "Entonces:\n",
        "\n",
        "Cada cifra tiene 9 opciones (del 1 al 9)\n",
        "Cada operador tiene 4 opciones\n",
        "Total de combinaciones:\n",
        "9^5 × 4^4 = 59049×256=15,116,544"
      ]
    },
    {
      "cell_type": "code",
      "execution_count": 3,
      "metadata": {
        "colab": {
          "base_uri": "https://localhost:8080/"
        },
        "id": "iq6Fe32MgpDX",
        "outputId": "56be24a0-c0dc-4da1-94a8-173f17e8ca44"
      },
      "outputs": [
        {
          "output_type": "stream",
          "name": "stdout",
          "text": [
            "Posibilidades sin restricciones: 15116544\n"
          ]
        }
      ],
      "source": [
        "# Posibilidades sin restricciones\n",
        "total_sin_restricciones = (9**5) * (4**4)\n",
        "print(f\"Posibilidades sin restricciones: {total_sin_restricciones}\")"
      ]
    },
    {
      "cell_type": "markdown",
      "metadata": {
        "id": "gkPw5QJyuTIy"
      },
      "source": [
        "**Si tenemos en cuenta las restricciones:**\n",
        "\n",
        "\n",
        "Usar 5 cifras distintas de {1..9}\n",
        "Usar los 4 operadores , todos distintos (permutaciones)\n",
        "\n",
        "Cálculo:\n",
        "Número de permutaciones de 5 cifras de 9:\n",
        "P(9,5)= (9−5)! / 9! = 15120\n",
        "\n",
        "Número de permutaciones de los 4 operadores:\n",
        "4!=24\n",
        "\n",
        "Total de combinaciones:\n",
        "15120×24=362880"
      ]
    },
    {
      "cell_type": "code",
      "execution_count": 4,
      "metadata": {
        "colab": {
          "base_uri": "https://localhost:8080/"
        },
        "id": "4q6srHUTuTIy",
        "outputId": "853423de-08fa-4400-f617-9d186c2adff3"
      },
      "outputs": [
        {
          "output_type": "stream",
          "name": "stdout",
          "text": [
            "Posibilidades con restricciones: 362880\n"
          ]
        }
      ],
      "source": [
        "#from math import perm, factorial\n",
        "\n",
        "# Con restricciones\n",
        "pos_con_restricciones = perm(9,5) * factorial(4)\n",
        "print(f\"Posibilidades con restricciones: {pos_con_restricciones}\")"
      ]
    },
    {
      "cell_type": "markdown",
      "metadata": {
        "id": "dzynfVJahHoY"
      },
      "source": [
        "Modelo para el espacio de soluciones<br>\n",
        "(*) ¿Cual es la estructura de datos que mejor se adapta al problema? Argumentalo.(Es posible que hayas elegido una al principio y veas la necesidad de cambiar, argumentalo)\n"
      ]
    },
    {
      "cell_type": "markdown",
      "metadata": {
        "id": "xFIJrOwKi2Ti"
      },
      "source": [
        "Respuesta"
      ]
    },
    {
      "cell_type": "markdown",
      "metadata": {
        "id": "b6oxPs5RuTIy"
      },
      "source": [
        "La estructura de datos elegida es:\n",
        "- Tuplas de 5 números seleccionados de {1..9}, sin repetición.\n",
        "- Tuplas de 4 operadores , permutaciones de {'+', '-', '*', '/'}\n",
        "- Resultados guardados en un conjunto (set)\n",
        "\n",
        "Utilizaremos:\n",
        "- itertools.permutations: porque permite generar todas las combinaciones sin repetición.\n",
        "- set: porque evita duplicados y facilita el conteo de resultados únicos.\n",
        "- Tuplas: ya que son inmutables, ideales para claves o almacenamiento seguro."
      ]
    },
    {
      "cell_type": "code",
      "execution_count": 5,
      "metadata": {
        "colab": {
          "base_uri": "https://localhost:8080/"
        },
        "id": "38c-7-ejhJmA",
        "outputId": "ab2213cd-6675-4123-c88e-c2984f0b0dbc"
      },
      "outputs": [
        {
          "output_type": "stream",
          "name": "stdout",
          "text": [
            "Ejemplo de una solución válida: (4, 2, 6, 3, 1), ('+', '-', '/', '*')\n"
          ]
        }
      ],
      "source": [
        "# Definición del conjunto de cifras y operadores\n",
        "cifras = list(range(1, 10))   # [1, 2, ..., 9]\n",
        "operadores = ['+', '-', '*', '/']\n",
        "\n",
        "# Estructura de datos elegida: permutaciones de 5 cifras y permutaciones de los 4 operadores\n",
        "# Esto asegura que no haya repetición de cifras ni operadores\n",
        "\n",
        "# Ejemplo de una solución válida:\n",
        "una_cifra_ejemplo = (4, 2, 6, 3, 1)        # Tupla de 5 cifras distintas\n",
        "un_operador_ejemplo = ('+', '-', '/', '*') # Tupla de 4 operadores en un orden dado\n",
        "\n",
        "# Representación de una solución completa:\n",
        "# (c1, c2, c3, c4, c5), (op1, op2, op3, op4)\n",
        "print(f\"Ejemplo de una solución válida: {una_cifra_ejemplo}, {un_operador_ejemplo}\")\n",
        "\n"
      ]
    },
    {
      "cell_type": "markdown",
      "metadata": {
        "id": "7Z9U2W7bi-XS"
      },
      "source": [
        "Según el modelo para el espacio de soluciones<br>\n",
        "(*)¿Cual es la función objetivo?\n",
        "\n",
        "(*)¿Es un problema de maximización o minimización?"
      ]
    },
    {
      "cell_type": "markdown",
      "metadata": {
        "id": "hBalWLM7j1_d"
      },
      "source": [
        "Respuesta"
      ]
    },
    {
      "cell_type": "markdown",
      "metadata": {
        "id": "NkX5CEcauTIy"
      },
      "source": [
        "Función objetivo: Dada una expresión formada por 5 cifras y 4 operadores, evaluar su resultado numérico usando evaluación izquierda a derecha."
      ]
    },
    {
      "cell_type": "code",
      "execution_count": 6,
      "metadata": {
        "colab": {
          "base_uri": "https://localhost:8080/"
        },
        "id": "xc9B8NtEuTIz",
        "outputId": "f3c8179a-3a16-49bd-810c-00f8ab073a52"
      },
      "outputs": [
        {
          "output_type": "stream",
          "name": "stdout",
          "text": [
            "Evaluando (4, 2, 6, 3, 1) con ('+', '-', '/', '*'): Resultado = 0.0\n"
          ]
        }
      ],
      "source": [
        "def evaluar_expresion(cifr, ops):\n",
        "    \"\"\"\n",
        "    Evalua la expresión formada por las cifras y operadores,\n",
        "    siguiendo el orden de izquierda a derecha, sin prioridad.\n",
        "    \"\"\"\n",
        "    resultado = cifr[0]\n",
        "    for i in range(4):\n",
        "        op = ops[i]\n",
        "        b = cifr[i + 1]\n",
        "        if op == '+':\n",
        "            resultado += b\n",
        "        elif op == '-':\n",
        "            resultado -= b\n",
        "        elif op == '*':\n",
        "            resultado *= b\n",
        "        elif op == '/':\n",
        "            if b == 0:\n",
        "                return None  # Evitar división por cero\n",
        "            resultado /= b\n",
        "    return resultado\n",
        "\n",
        "# Ejemplo de uso de la función con los ejemplos anteriores\n",
        "valor_resultante = evaluar_expresion(una_cifra_ejemplo, un_operador_ejemplo)\n",
        "print(f\"Evaluando {una_cifra_ejemplo} con {un_operador_ejemplo}: Resultado = {valor_resultante}\")"
      ]
    },
    {
      "cell_type": "markdown",
      "metadata": {
        "id": "TOi8SWMIuTIz"
      },
      "source": [
        "No es estrictamente un problema de optimización en sentido tradicional (no se busca maximizar ni minimizar una función), sino un problema de búsqueda exhaustiva de valores enteros alcanzables.\n",
        "\n",
        "Sin embargo, si queremos verlo como problema de optimización, podríamos definir una función objetivo que mida cómo de cerca estamos de un valor dado.\n",
        "En ese caso, sería un problema de minimización de error entre el resultado obtenido y el deseado."
      ]
    },
    {
      "cell_type": "code",
      "execution_count": 7,
      "metadata": {
        "colab": {
          "base_uri": "https://localhost:8080/"
        },
        "id": "ihGgm2uduTIz",
        "outputId": "6a7fdae0-6d08-4c0a-b840-482a15c4bbf9"
      },
      "outputs": [
        {
          "output_type": "stream",
          "name": "stdout",
          "text": [
            "Mejor solución encontrada:\n",
            "Cifras: (5, 1, 7, 9, 8)\n",
            "Operadores: ('/', '+', '*', '-')\n",
            "Resultado obtenido: 100.0\n",
            "Valor objetivo: 100\n",
            "Error absoluto: 0.0\n"
          ]
        }
      ],
      "source": [
        "# Valor objetivo que queremos alcanzar\n",
        "valor_objetivo = 100\n",
        "\n",
        "# Función objetivo: calcula el error absoluto entre el resultado y el valor objetivo\n",
        "def funcion_objetivo(cifras_comb, ops_comb, objetivo):\n",
        "    resultado = evaluar_expresion(cifras_comb, ops_comb)\n",
        "    if resultado is None:\n",
        "        return float('inf')  # Penalizamos la división por cero\n",
        "    return abs(resultado - objetivo)\n",
        "\n",
        "\n",
        "# Búsqueda exhaustiva para minimizar el error\n",
        "mejor_error = float('inf')\n",
        "mejor_solucion = None\n",
        "\n",
        "for nums in permutations(cifras, 5):\n",
        "    for ops in permutations(operadores):\n",
        "        error = funcion_objetivo(nums, ops, valor_objetivo)\n",
        "        if error < mejor_error:\n",
        "            mejor_error = error\n",
        "            mejor_solucion = (nums, ops, evaluar_expresion(nums, ops))\n",
        "\n",
        "# Mostrar la mejor solución encontrada\n",
        "print(\"Mejor solución encontrada:\")\n",
        "print(f\"Cifras: {mejor_solucion[0]}\")\n",
        "print(f\"Operadores: {mejor_solucion[1]}\")\n",
        "print(f\"Resultado obtenido: {mejor_solucion[2]}\")\n",
        "print(f\"Valor objetivo: {valor_objetivo}\")\n",
        "print(f\"Error absoluto: {mejor_error}\")"
      ]
    },
    {
      "cell_type": "markdown",
      "metadata": {
        "id": "rlnTYgY1j6I2"
      },
      "source": [
        "Diseña un algoritmo para resolver el problema por fuerza bruta"
      ]
    },
    {
      "cell_type": "markdown",
      "metadata": {
        "id": "70rDgxYXkC8r"
      },
      "source": [
        "Respuesta"
      ]
    },
    {
      "cell_type": "code",
      "execution_count": 8,
      "metadata": {
        "id": "CJb5sQ0qkENy"
      },
      "outputs": [],
      "source": [
        "#Algoritmo por fuerza bruta\n",
        "\n",
        "results = set()\n",
        "\n",
        "for nums in permutations(cifras, 5):  # 15120\n",
        "    for ops in permutations(operadores):  # 24\n",
        "        value = nums[0]\n",
        "        try:\n",
        "            for i in range(4):\n",
        "                b = nums[i+1]\n",
        "                op = ops[i]\n",
        "                if op == '+': value += b\n",
        "                elif op == '-': value -= b\n",
        "                elif op == '*': value *= b\n",
        "                elif op == '/': value /= b\n",
        "            if value == int(value):\n",
        "                results.add(int(value))\n",
        "        except ZeroDivisionError:\n",
        "            continue"
      ]
    },
    {
      "cell_type": "markdown",
      "metadata": {
        "id": "tgrnsC2nkFa8"
      },
      "source": [
        "Calcula la complejidad del algoritmo por fuerza bruta"
      ]
    },
    {
      "cell_type": "markdown",
      "metadata": {
        "id": "9eUd3xwckP68"
      },
      "source": [
        "Respuesta"
      ]
    },
    {
      "cell_type": "markdown",
      "metadata": {
        "id": "shS7KT2nuTIz"
      },
      "source": [
        "Número total de iteraciones:\n",
        "P(9,5)×4!=15120×24=362880\n",
        "Cada iteración realiza 4 operaciones aritméticas → O(1) por iteración\n",
        "Complejidad temporal:\n",
        "\n",
        "O(P(9,5)⋅4!)=O(362880)\n",
        "Espacio:\n",
        "\n",
        "Almacenamiento de resultados: O(k), donde k es el número de enteros diferentes obtenidos (en práctica < 1000)"
      ]
    },
    {
      "cell_type": "code",
      "execution_count": 9,
      "metadata": {
        "colab": {
          "base_uri": "https://localhost:8080/"
        },
        "id": "rvZWwL-ckRST",
        "outputId": "47e758c7-5cda-438b-bea0-48cd611d3e29"
      },
      "outputs": [
        {
          "output_type": "stream",
          "name": "stdout",
          "text": [
            "Cálculo de la complejidad del algoritmo por fuerza bruta:\n",
            "Número de permutaciones de 5 cifras de 9: P(9, 5) = 15120\n",
            "Número de permutaciones de 4 operadores: 4! = 24\n",
            "Total de combinaciones a evaluar: 362880\n",
            "\n",
            "Complejidad del algoritmo por fuerza bruta:\n",
            "O(P(n, k) x m!) → donde:\n",
            "  n = 9 (total de cifras)\n",
            "  k = 5 (cifras seleccionadas)\n",
            "  m = 4 (operadores)\n",
            "\n",
            "Justificación:\n",
            "El algoritmo prueba todas las combinaciones posibles de 5 cifras distintas\n",
            "del conjunto {1..9} y todas las permutaciones de los 4 operadores básicos.\n",
            "Cada una de estas combinaciones requiere una evaluación aritmética de 4 pasos.\n",
            "Por lo tanto, la complejidad es proporcional al número total de combinaciones.\n"
          ]
        }
      ],
      "source": [
        "# Número de cifras disponibles (1 al 9)\n",
        "total_cifras = 9\n",
        "\n",
        "# Seleccionamos 5 cifras sin repetición\n",
        "num_cifras_seleccionadas = 5\n",
        "\n",
        "# Número de operadores disponibles (+, -, *, /)\n",
        "num_operadores = 4\n",
        "\n",
        "# Cálculo del número total de combinaciones posibles\n",
        "permutaciones_cifras = perm(total_cifras, num_cifras_seleccionadas)  # P(9,5)\n",
        "permutaciones_operadores = factorial(num_operadores)                # 4!\n",
        "\n",
        "# Total de expresiones a evaluar\n",
        "total_combinaciones = permutaciones_cifras * permutaciones_operadores\n",
        "\n",
        "# Complejidad asintótica en notación O grande\n",
        "print(\"Cálculo de la complejidad del algoritmo por fuerza bruta:\")\n",
        "print(f\"Número de permutaciones de 5 cifras de {total_cifras}: P({total_cifras}, {num_cifras_seleccionadas}) = {permutaciones_cifras}\")\n",
        "print(f\"Número de permutaciones de {num_operadores} operadores: {num_operadores}! = {permutaciones_operadores}\")\n",
        "print(f\"Total de combinaciones a evaluar: {total_combinaciones}\")\n",
        "\n",
        "# Mostramos la complejidad en notación Big O\n",
        "print(\"\\nComplejidad del algoritmo por fuerza bruta:\")\n",
        "print(\"O(P(n, k) x m!) → donde:\")\n",
        "print(f\"  n = {total_cifras} (total de cifras)\")\n",
        "print(f\"  k = {num_cifras_seleccionadas} (cifras seleccionadas)\")\n",
        "print(f\"  m = {num_operadores} (operadores)\")\n",
        "\n",
        "# Justificación\n",
        "print(\"\\nJustificación:\")\n",
        "print(\"El algoritmo prueba todas las combinaciones posibles de 5 cifras distintas\")\n",
        "print(\"del conjunto {1..9} y todas las permutaciones de los 4 operadores básicos.\")\n",
        "print(\"Cada una de estas combinaciones requiere una evaluación aritmética de 4 pasos.\")\n",
        "print(\"Por lo tanto, la complejidad es proporcional al número total de combinaciones.\")"
      ]
    },
    {
      "cell_type": "markdown",
      "metadata": {
        "id": "txbrmLmskReM"
      },
      "source": [
        "(*)Diseña un algoritmo que mejore la complejidad del algortimo por fuerza bruta. Argumenta porque crees que mejora el algoritmo por fuerza bruta"
      ]
    },
    {
      "cell_type": "markdown",
      "metadata": {
        "id": "hLrVwt5QkZPD"
      },
      "source": [
        "Respuesta"
      ]
    },
    {
      "cell_type": "markdown",
      "metadata": {
        "id": "_-hRMMy8uTI1"
      },
      "source": [
        "Para mejorar la complejidad del algoritmo por fuerza bruta podemos reducir el número de evaluaciones necesarias, aplicando ténica de poda temprana, ya que si detectamos que el valor intermedio ya es demasiado grande o claramente no entero, dejamos de evaluar esa expresión. Ademas, saltamos las combinaciones donde haya división por cero."
      ]
    },
    {
      "cell_type": "code",
      "execution_count": 10,
      "metadata": {
        "id": "m1eyM21Vkabg"
      },
      "outputs": [],
      "source": [
        "# Función que evalúa una expresión con poda temprana\n",
        "def evaluar_con_poda(cifras_comb, ops_comb, limite=50):\n",
        "    try:\n",
        "        valor = cifras_comb[0]\n",
        "        for i in range(4):\n",
        "            op = ops_comb[i]\n",
        "            b = cifras_comb[i + 1]\n",
        "            if op == '+':\n",
        "                valor += b\n",
        "            elif op == '-':\n",
        "                valor -= b\n",
        "            elif op == '*':\n",
        "                valor *= b\n",
        "            elif op == '/':\n",
        "                valor /= b\n",
        "            # Poda temprana si el valor es demasiado grande\n",
        "            if abs(valor) > limite:\n",
        "                return None, \"poda\"\n",
        "        return valor, \"entero\" if valor == int(valor) else \"no_entero\"\n",
        "    except ZeroDivisionError:\n",
        "        return None, \"division_por_cero\""
      ]
    },
    {
      "cell_type": "markdown",
      "metadata": {
        "id": "eGDB4K6uk1iN"
      },
      "source": [
        "(*)Calcula la complejidad del algoritmo"
      ]
    },
    {
      "cell_type": "markdown",
      "metadata": {
        "id": "NhpTh_BPk1ms"
      },
      "source": [
        "Respuesta"
      ]
    },
    {
      "cell_type": "code",
      "execution_count": 11,
      "metadata": {
        "colab": {
          "base_uri": "https://localhost:8080/"
        },
        "id": "nREzhkStlCq8",
        "outputId": "f1683123-d1f5-4814-e595-62406f6681ee"
      },
      "outputs": [
        {
          "output_type": "stream",
          "name": "stdout",
          "text": [
            "Complejidad del algoritmo mejorado\n",
            "──────────────────────────────────\n",
            "Número total de combinaciones posibles: 362880\n",
            "Porcentaje estimado de poda temprana: 25.0%\n",
            "Número efectivo de evaluaciones completas: 272160\n",
            "\n",
            "Complejidad:\n",
            "En notación O grande:\n",
            "  Peor caso: O(P(n, k) x m!) → O(362880)\n",
            "  Caso promedio (con poda): ~75% del peor caso\n",
            "  Donde n=9, k=5, m=4\n",
            "\n",
            "Justificación:\n",
            "Aunque el número total de combinaciones sigue siendo el mismo que en la fuerza bruta,\n",
            "la poda temprana permite evitar evaluar completamente ciertas expresiones.\n",
            "Esto reduce el tiempo real de ejecución, aunque la complejidad teórica permanezca invariable.\n"
          ]
        }
      ],
      "source": [
        "# Parámetros del problema\n",
        "total_cifras = 9\n",
        "num_cifras_seleccionadas = 5\n",
        "num_operadores = 4\n",
        "\n",
        "# Cálculos combinatorios\n",
        "permutaciones_cifras = perm(total_cifras, num_cifras_seleccionadas)\n",
        "permutaciones_operadores = factorial(num_operadores)\n",
        "total_combinaciones = permutaciones_cifras * permutaciones_operadores\n",
        "\n",
        "# Estimación de la mejora debido a la poda temprana\n",
        "# Supongamos un porcentaje estimado de poda (ajustable)\n",
        "porcentaje_poda_estimado = 0.25  # 25% de evaluaciones evitadas\n",
        "\n",
        "# Número efectivo de evaluaciones completas\n",
        "evaluaciones_efectivas = total_combinaciones * (1 - porcentaje_poda_estimado)\n",
        "\n",
        "print(\"Complejidad del algoritmo mejorado\")\n",
        "print(\"─\" * 34)\n",
        "print(f\"Número total de combinaciones posibles: {total_combinaciones}\")\n",
        "print(f\"Porcentaje estimado de poda temprana: {porcentaje_poda_estimado * 100}%\")\n",
        "print(f\"Número efectivo de evaluaciones completas: {int(evaluaciones_efectivas)}\")\n",
        "print(\"\\nComplejidad:\")\n",
        "print(\"En notación O grande:\")\n",
        "print(\"  Peor caso: O(P(n, k) x m!) → O(362880)\")\n",
        "print(\"  Caso promedio (con poda): ~75% del peor caso\")\n",
        "print(\"  Donde n=9, k=5, m=4\")\n",
        "\n",
        "print(\"\\nJustificación:\")\n",
        "print(\"Aunque el número total de combinaciones sigue siendo el mismo que en la fuerza bruta,\")\n",
        "print(\"la poda temprana permite evitar evaluar completamente ciertas expresiones.\")\n",
        "print(\"Esto reduce el tiempo real de ejecución, aunque la complejidad teórica permanezca invariable.\")"
      ]
    },
    {
      "cell_type": "markdown",
      "metadata": {
        "id": "3M6QjTsSkmYe"
      },
      "source": [
        "Según el problema (y tenga sentido), diseña un juego de datos de entrada aleatorios"
      ]
    },
    {
      "cell_type": "markdown",
      "metadata": {
        "id": "Jc3_OlyNkvjZ"
      },
      "source": [
        "Respuesta"
      ]
    },
    {
      "cell_type": "code",
      "execution_count": 12,
      "metadata": {
        "colab": {
          "base_uri": "https://localhost:8080/"
        },
        "id": "sJ-N2etjkyWc",
        "outputId": "3ff14c28-7722-4ff0-efdb-f55935406520"
      },
      "outputs": [
        {
          "output_type": "stream",
          "name": "stdout",
          "text": [
            "Generando conjunto de juegos de datos:\n",
            "========================================\n",
            "Juego 1:\n",
            "  Cifras: (8, 6, 4, 9, 3)\n",
            "  Operadores: ('-', '/', '+', '*')\n",
            "Juego 2:\n",
            "  Cifras: (8, 3, 1, 6, 5)\n",
            "  Operadores: ('/', '+', '*', '-')\n",
            "Juego 3:\n",
            "  Cifras: (7, 3, 1, 8, 4)\n",
            "  Operadores: ('-', '*', '/', '+')\n",
            "Juego 4:\n",
            "  Cifras: (9, 2, 1, 4, 7)\n",
            "  Operadores: ('/', '*', '-', '+')\n",
            "Juego 5:\n",
            "  Cifras: (8, 9, 1, 3, 7)\n",
            "  Operadores: ('-', '+', '*', '/')\n",
            "Juego 6:\n",
            "  Cifras: (3, 1, 2, 4, 7)\n",
            "  Operadores: ('/', '*', '+', '-')\n",
            "Juego 7:\n",
            "  Cifras: (9, 6, 5, 8, 2)\n",
            "  Operadores: ('+', '/', '*', '-')\n",
            "Juego 8:\n",
            "  Cifras: (7, 8, 9, 3, 5)\n",
            "  Operadores: ('/', '+', '-', '*')\n",
            "Juego 9:\n",
            "  Cifras: (3, 8, 4, 5, 1)\n",
            "  Operadores: ('-', '*', '/', '+')\n",
            "Juego 10:\n",
            "  Cifras: (5, 2, 1, 8, 7)\n",
            "  Operadores: ('+', '/', '-', '*')\n",
            "Juego 11:\n",
            "  Cifras: (3, 2, 4, 6, 1)\n",
            "  Operadores: ('*', '-', '/', '+')\n",
            "Juego 12:\n",
            "  Cifras: (7, 1, 8, 2, 3)\n",
            "  Operadores: ('*', '/', '+', '-')\n",
            "Juego 13:\n",
            "  Cifras: (9, 7, 6, 5, 3)\n",
            "  Operadores: ('/', '-', '+', '*')\n",
            "Juego 14:\n",
            "  Cifras: (3, 5, 8, 4, 9)\n",
            "  Operadores: ('+', '-', '/', '*')\n",
            "Juego 15:\n",
            "  Cifras: (8, 2, 1, 9, 3)\n",
            "  Operadores: ('*', '/', '-', '+')\n",
            "Juego 16:\n",
            "  Cifras: (7, 8, 1, 5, 3)\n",
            "  Operadores: ('/', '*', '+', '-')\n",
            "Juego 17:\n",
            "  Cifras: (5, 2, 6, 8, 9)\n",
            "  Operadores: ('*', '-', '+', '/')\n",
            "Juego 18:\n",
            "  Cifras: (5, 6, 7, 8, 3)\n",
            "  Operadores: ('*', '-', '/', '+')\n",
            "Juego 19:\n",
            "  Cifras: (7, 4, 6, 1, 9)\n",
            "  Operadores: ('+', '*', '/', '-')\n",
            "Juego 20:\n",
            "  Cifras: (4, 5, 2, 3, 7)\n",
            "  Operadores: ('/', '+', '-', '*')\n"
          ]
        }
      ],
      "source": [
        "\n",
        "# Generar un juego de datos aleatorio\n",
        "def generar_juego_aleatorio():\n",
        "    nums = tuple(random.sample(cifras, 5))  # 5 cifras distintas\n",
        "    ops = tuple(random.sample(operadores, 4))  # 4 operadores en orden aleatorio\n",
        "    return nums, ops\n",
        "\n",
        "# Generar y almacenar múltiples juegos de datos\n",
        "def generar_conjunto_juegos(n=20):\n",
        "    \"\"\"Genera n juegos aleatorios y los almacena en una lista\"\"\"\n",
        "    juegos = []\n",
        "    for i in range(n):\n",
        "        nums, ops = generar_juego_aleatorio()\n",
        "        juegos.append((nums, ops))\n",
        "        print(f\"Juego {i+1}:\")\n",
        "        print(f\"  Cifras: {nums}\")\n",
        "        print(f\"  Operadores: {ops}\")\n",
        "    return juegos\n",
        "\n",
        "# Generar y almacenar 10 juegos aleatorios\n",
        "print(\"Generando conjunto de juegos de datos:\")\n",
        "print(\"=\" * 40)\n",
        "juegos_almacenados = generar_conjunto_juegos(20)"
      ]
    },
    {
      "cell_type": "markdown",
      "metadata": {
        "id": "zy5ZROmjlGo1"
      },
      "source": [
        "Aplica el algoritmo al juego de datos generado"
      ]
    },
    {
      "cell_type": "markdown",
      "metadata": {
        "id": "_Cmj-PVylMsa"
      },
      "source": [
        "Respuesta"
      ]
    },
    {
      "cell_type": "code",
      "execution_count": 13,
      "metadata": {
        "colab": {
          "base_uri": "https://localhost:8080/"
        },
        "id": "Jkx8GeiYlUz1",
        "outputId": "6463aa9e-1205-4f55-f544-d700b14ad3a9"
      },
      "outputs": [
        {
          "output_type": "stream",
          "name": "stdout",
          "text": [
            "\n",
            "Aplicando algoritmo a los juegos almacenados:\n",
            "==================================================\n",
            "Aplicando algoritmo a 20 juegos almacenados:\n",
            "\n",
            "Juego 1:\n",
            "  Cifras: (8, 6, 4, 9, 3)\n",
            "  Operadores: ('-', '/', '+', '*')\n",
            "  Resultado: 28.5\n",
            "  ✗ NO - No es un número entero.\n",
            "----------------------------------------\n",
            "Juego 2:\n",
            "  Cifras: (8, 3, 1, 6, 5)\n",
            "  Operadores: ('/', '+', '*', '-')\n",
            "  Resultado: 17.0\n",
            "  ✓ SÍ - Es un número entero.\n",
            "----------------------------------------\n",
            "Juego 3:\n",
            "  Cifras: (7, 3, 1, 8, 4)\n",
            "  Operadores: ('-', '*', '/', '+')\n",
            "  Resultado: 4.5\n",
            "  ✗ NO - No es un número entero.\n",
            "----------------------------------------\n",
            "Juego 4:\n",
            "  Cifras: (9, 2, 1, 4, 7)\n",
            "  Operadores: ('/', '*', '-', '+')\n",
            "  Resultado: 7.5\n",
            "  ✗ NO - No es un número entero.\n",
            "----------------------------------------\n",
            "Juego 5:\n",
            "  Cifras: (8, 9, 1, 3, 7)\n",
            "  Operadores: ('-', '+', '*', '/')\n",
            "  Resultado: 0.0\n",
            "  ✓ SÍ - Es un número entero.\n",
            "----------------------------------------\n",
            "Juego 6:\n",
            "  Cifras: (3, 1, 2, 4, 7)\n",
            "  Operadores: ('/', '*', '+', '-')\n",
            "  Resultado: 3.0\n",
            "  ✓ SÍ - Es un número entero.\n",
            "----------------------------------------\n",
            "Juego 7:\n",
            "  Cifras: (9, 6, 5, 8, 2)\n",
            "  Operadores: ('+', '/', '*', '-')\n",
            "  Resultado: 22.0\n",
            "  ✓ SÍ - Es un número entero.\n",
            "----------------------------------------\n",
            "Juego 8:\n",
            "  Cifras: (7, 8, 9, 3, 5)\n",
            "  Operadores: ('/', '+', '-', '*')\n",
            "  Resultado: 34.375\n",
            "  ✗ NO - No es un número entero.\n",
            "----------------------------------------\n",
            "Juego 9:\n",
            "  Cifras: (3, 8, 4, 5, 1)\n",
            "  Operadores: ('-', '*', '/', '+')\n",
            "  Resultado: -3.0\n",
            "  ✓ SÍ - Es un número entero.\n",
            "----------------------------------------\n",
            "Juego 10:\n",
            "  Cifras: (5, 2, 1, 8, 7)\n",
            "  Operadores: ('+', '/', '-', '*')\n",
            "  Resultado: -7.0\n",
            "  ✓ SÍ - Es un número entero.\n",
            "----------------------------------------\n",
            "Juego 11:\n",
            "  Cifras: (3, 2, 4, 6, 1)\n",
            "  Operadores: ('*', '-', '/', '+')\n",
            "  Resultado: 1.3333333333333333\n",
            "  ✗ NO - No es un número entero.\n",
            "----------------------------------------\n",
            "Juego 12:\n",
            "  Cifras: (7, 1, 8, 2, 3)\n",
            "  Operadores: ('*', '/', '+', '-')\n",
            "  Resultado: -0.125\n",
            "  ✗ NO - No es un número entero.\n",
            "----------------------------------------\n",
            "Juego 13:\n",
            "  Cifras: (9, 7, 6, 5, 3)\n",
            "  Operadores: ('/', '-', '+', '*')\n",
            "  Resultado: 0.8571428571428568\n",
            "  ✗ NO - No es un número entero.\n",
            "----------------------------------------\n",
            "Juego 14:\n",
            "  Cifras: (3, 5, 8, 4, 9)\n",
            "  Operadores: ('+', '-', '/', '*')\n",
            "  Resultado: 0.0\n",
            "  ✓ SÍ - Es un número entero.\n",
            "----------------------------------------\n",
            "Juego 15:\n",
            "  Cifras: (8, 2, 1, 9, 3)\n",
            "  Operadores: ('*', '/', '-', '+')\n",
            "  Resultado: 10.0\n",
            "  ✓ SÍ - Es un número entero.\n",
            "----------------------------------------\n",
            "Juego 16:\n",
            "  Cifras: (7, 8, 1, 5, 3)\n",
            "  Operadores: ('/', '*', '+', '-')\n",
            "  Resultado: 2.875\n",
            "  ✗ NO - No es un número entero.\n",
            "----------------------------------------\n",
            "Juego 17:\n",
            "  Cifras: (5, 2, 6, 8, 9)\n",
            "  Operadores: ('*', '-', '+', '/')\n",
            "  Resultado: 1.3333333333333333\n",
            "  ✗ NO - No es un número entero.\n",
            "----------------------------------------\n",
            "Juego 18:\n",
            "  Cifras: (5, 6, 7, 8, 3)\n",
            "  Operadores: ('*', '-', '/', '+')\n",
            "  Resultado: 5.875\n",
            "  ✗ NO - No es un número entero.\n",
            "----------------------------------------\n",
            "Juego 19:\n",
            "  Cifras: (7, 4, 6, 1, 9)\n",
            "  Operadores: ('+', '*', '/', '-')\n",
            "  → Valor excedido. Evaluación abortada (poda temprana).\n",
            "----------------------------------------\n",
            "Juego 20:\n",
            "  Cifras: (4, 5, 2, 3, 7)\n",
            "  Operadores: ('/', '+', '-', '*')\n",
            "  Resultado: -1.4000000000000012\n",
            "  ✗ NO - No es un número entero.\n",
            "----------------------------------------\n"
          ]
        }
      ],
      "source": [
        "\n",
        "# Aplicar algoritmo a juegos previamente almacenados\n",
        "def aplicar_algoritmo_a_juegos_almacenados(juegos_datos):\n",
        "    \"\"\"Aplica el algoritmo de evaluación a un conjunto de juegos previamente generados\"\"\"\n",
        "    print(f\"Aplicando algoritmo a {len(juegos_datos)} juegos almacenados:\\n\")\n",
        "    resultados = []\n",
        "\n",
        "    for i, (nums, ops) in enumerate(juegos_datos):\n",
        "        resultado, tipo = evaluar_con_poda(nums, ops)\n",
        "\n",
        "        # Almacenar el resultado completo\n",
        "        resultado_completo = {\n",
        "            'juego_id': i + 1,\n",
        "            'cifras': nums,\n",
        "            'operadores': ops,\n",
        "            'resultado': resultado,\n",
        "            'tipo': tipo,\n",
        "            'es_entero': resultado == int(resultado) if tipo not in [\"poda\", \"division_por_cero\"] else False\n",
        "        }\n",
        "        resultados.append(resultado_completo)\n",
        "\n",
        "        print(f\"Juego {i+1}:\")\n",
        "        print(f\"  Cifras: {nums}\")\n",
        "        print(f\"  Operadores: {ops}\")\n",
        "\n",
        "        if tipo == \"poda\":\n",
        "            print(\"  → Valor excedido. Evaluación abortada (poda temprana).\")\n",
        "        elif tipo == \"division_por_cero\":\n",
        "            print(\"  → División por cero. Expresión inválida.\")\n",
        "        else:\n",
        "            print(f\"  Resultado: {resultado}\")\n",
        "            if resultado == int(resultado):\n",
        "                print(\"  ✓ SÍ - Es un número entero.\")\n",
        "            else:\n",
        "                print(\"  ✗ NO - No es un número entero.\")\n",
        "        print(\"-\" * 40)\n",
        "\n",
        "    return resultados\n",
        "\n",
        "# Aplicar el algoritmo a los juegos previamente almacenados\n",
        "print(\"\\nAplicando algoritmo a los juegos almacenados:\")\n",
        "print(\"=\" * 50)\n",
        "resultados_obtenidos = aplicar_algoritmo_a_juegos_almacenados(juegos_almacenados)"
      ]
    },
    {
      "cell_type": "code",
      "execution_count": 14,
      "metadata": {
        "colab": {
          "base_uri": "https://localhost:8080/"
        },
        "id": "LkceFIlHuTI4",
        "outputId": "a7be57fc-ab73-4822-c8d3-7aab2141912c"
      },
      "outputs": [
        {
          "output_type": "stream",
          "name": "stdout",
          "text": [
            "\n",
            "==================================================\n",
            "ANÁLISIS DE RESULTADOS\n",
            "==================================================\n",
            "Total de juegos evaluados: 20\n",
            "Resultados enteros obtenidos: 8\n",
            "Divisiones por cero: 0\n",
            "Evaluaciones con poda temprana: 1\n",
            "\n",
            "VALORES ENTEROS ENCONTRADOS:\n",
            "  Juego 2: 17.0\n",
            "  Juego 5: 0.0\n",
            "  Juego 6: 3.0\n",
            "  Juego 7: 22.0\n",
            "  Juego 9: -3.0\n",
            "  Juego 10: -7.0\n",
            "  Juego 14: 0.0\n",
            "  Juego 15: 10.0\n",
            "\n",
            "Valore únicos enteros: [-7, -3, 0, 3, 10, 17, 22]\n",
            "Cantidad de valores únicos: 7\n"
          ]
        }
      ],
      "source": [
        "# Análisis de los resultados obtenidos\n",
        "def analizar_resultados(resultados):\n",
        "    \"\"\"Analiza los resultados obtenidos de los juegos evaluados\"\"\"\n",
        "    total_juegos = len(resultados)\n",
        "    enteros_obtenidos = [r for r in resultados if r['es_entero']]\n",
        "    divisiones_por_cero = [r for r in resultados if r['tipo'] == 'division_por_cero']\n",
        "    podas = [r for r in resultados if r['tipo'] == 'poda']\n",
        "\n",
        "    print(\"\\n\" + \"=\" * 50)\n",
        "    print(\"ANÁLISIS DE RESULTADOS\")\n",
        "    print(\"=\" * 50)\n",
        "    print(f\"Total de juegos evaluados: {total_juegos}\")\n",
        "    print(f\"Resultados enteros obtenidos: {len(enteros_obtenidos)}\")\n",
        "    print(f\"Divisiones por cero: {len(divisiones_por_cero)}\")\n",
        "    print(f\"Evaluaciones con poda temprana: {len(podas)}\")\n",
        "\n",
        "    if enteros_obtenidos:\n",
        "        print(\"\\nVALORES ENTEROS ENCONTRADOS:\")\n",
        "        for resultado in enteros_obtenidos:\n",
        "            print(f\"  Juego {resultado['juego_id']}: {resultado['resultado']}\")\n",
        "\n",
        "        valores_unicos = set([int(r['resultado']) for r in enteros_obtenidos])\n",
        "        print(f\"\\nValore únicos enteros: {sorted(valores_unicos)}\")\n",
        "        print(f\"Cantidad de valores únicos: {len(valores_unicos)}\")\n",
        "\n",
        "    return {\n",
        "        'total': total_juegos,\n",
        "        'enteros': len(enteros_obtenidos),\n",
        "        'divisiones_cero': len(divisiones_por_cero),\n",
        "        'podas': len(podas),\n",
        "        'valores_unicos': sorted(set([int(r['resultado']) for r in enteros_obtenidos])) if enteros_obtenidos else []\n",
        "    }\n",
        "\n",
        "# Realizar análisis de los resultados\n",
        "estadisticas = analizar_resultados(resultados_obtenidos)"
      ]
    },
    {
      "cell_type": "markdown",
      "metadata": {
        "id": "k-k9zhZ8z0L3"
      },
      "source": [
        "**Resolución preguntas adicionales**\n",
        "\n",
        "### ¿Qué valor máximo y mínimo se pueden obtener?\n",
        "\n",
        "Mediante el análisis exhaustivo de todas las 362,880 combinaciones posibles de 5 cifras (del 1 al 9) con los 4 operadores (+, -, *, /) evaluados de izquierda a derecha, se obtienen los siguientes valores:\n",
        "\n",
        "- **Valor mínimo**: -68\n",
        "- **Valor máximo**: 133\n",
        "\n",
        "Estos valores son exactos y deterministas, ya que se han evaluado todas las combinaciones posibles sin prioridad de operadores.\n",
        "\n",
        "### ¿Es posible encontrar todos los valores enteros entre dicho mínimo y máximo?\n",
        "\n",
        "**No**, no es posible encontrar todos los valores enteros en el rango [-68, 133].\n",
        "\n",
        "**Análisis cuantitativo:**\n",
        "- Rango teórico: -68 a 133 → 202 valores posibles\n",
        "- Valores enteros encontrados: 198\n",
        "- **Cobertura**: 98.0% (198/202)\n",
        "- **Valores faltantes**: 4 números enteros\n",
        "\n",
        "Los valores faltantes son: [107, 120, 127, 128]\n",
        "\n",
        "Esto demuestra que aunque la mayoría de valores enteros son alcanzables, existen \"huecos\" específicos que no pueden obtenerse con ninguna combinación válida de cifras y operadores bajo las reglas establecidas."
      ]
    },
    {
      "cell_type": "code",
      "execution_count": 15,
      "metadata": {
        "colab": {
          "base_uri": "https://localhost:8080/"
        },
        "id": "RzDuFY6Jz0L3",
        "outputId": "0afb6c49-b728-4b5e-adca-84305ee46eb9"
      },
      "outputs": [
        {
          "output_type": "stream",
          "name": "stdout",
          "text": [
            "Resultados obtenidos:\n",
            "Valor mínimo encontrado: -68\n",
            "Valor máximo encontrado: 133\n",
            "\n",
            "Total de números enteros entre -68 y 133: 202\n",
            "Números enteros encontrados: 198\n",
            "¿Se encuentran todos los enteros en ese rango?: No\n",
            "\n",
            "Ejemplo de valores enteros faltantes:\n",
            "[107, 120, 127, 128]\n"
          ]
        }
      ],
      "source": [
        "# Variables para rastrear resultados\n",
        "all_results = set()\n",
        "min_value = inf\n",
        "max_value = -inf\n",
        "\n",
        "# Generar todas las combinaciones válidas\n",
        "for nums in permutations(cifras, 5):  # Seleccionamos 5 cifras sin repetición\n",
        "    for ops in permutations(operadores):  # Todos los órdenes de operadores\n",
        "        value = evaluar_expresion(nums, ops)\n",
        "        if value is not None and value == int(value):  # Es entero\n",
        "            int_value = int(value)\n",
        "            all_results.add(int_value)\n",
        "            if int_value < min_value:\n",
        "                min_value = int_value\n",
        "            if int_value > max_value:\n",
        "                max_value = int_value\n",
        "\n",
        "# Mostrar resultados principales\n",
        "print(\"Resultados obtenidos:\")\n",
        "print(f\"Valor mínimo encontrado: {min_value}\")\n",
        "print(f\"Valor máximo encontrado: {max_value}\")\n",
        "\n",
        "# Comprobar si hay huecos entre min y max\n",
        "expected_count = max_value - min_value + 1\n",
        "actual_count = len(all_results)\n",
        "\n",
        "print(f\"\\nTotal de números enteros entre {min_value} y {max_value}: {expected_count}\")\n",
        "print(f\"Números enteros encontrados: {actual_count}\")\n",
        "print(f\"¿Se encuentran todos los enteros en ese rango?: {'Sí' if expected_count == actual_count else 'No'}\")\n",
        "\n",
        "# Opcional: mostrar algunos ejemplos de valores faltantes\n",
        "missing_values = [x for x in range(min_value, max_value + 1) if x not in all_results]\n",
        "if missing_values:\n",
        "    print(\"\\nEjemplo de valores enteros faltantes:\")\n",
        "    print(sorted(missing_values)[:20])  # Muestra hasta 20 valores faltantes\n",
        "else:\n",
        "    print(\"\\n¡Todos los valores enteros están presentes!\")"
      ]
    },
    {
      "cell_type": "code",
      "execution_count": 16,
      "metadata": {
        "colab": {
          "base_uri": "https://localhost:8080/"
        },
        "id": "Rreip5glz0L3",
        "outputId": "f8eae787-1d57-4dc8-efa4-e7c91d3fdc39"
      },
      "outputs": [
        {
          "output_type": "stream",
          "name": "stdout",
          "text": [
            "\n",
            "ANÁLISIS DE RESULTADOS OBTENIDOS\n",
            "==============================\n",
            "Valores reales - Mínimo: -68, Máximo: 133\n",
            "\n",
            "ANÁLISIS DE DENSIDAD:\n",
            "-------------------------\n",
            "Cobertura: 198/202 = 98.0%\n",
            "Valores faltantes: 4\n",
            "¿Hay huecos?: SÍ\n",
            "\n",
            "EJEMPLOS DE SOLUCIONES EXTREMAS:\n",
            "-----------------------------------\n",
            "Ejemplos que dan el MÍNIMO (-68):\n",
            "  1. (1, 2, 6, 9, 8) ('+', '/', '-', '*') = -68\n",
            "  2. (1, 4, 9, 8, 2) ('/', '-', '*', '+') = -68\n",
            "  3. (2, 1, 6, 9, 8) ('+', '/', '-', '*') = -68\n",
            "\n",
            "Ejemplos que dan el MÁXIMO (133):\n",
            "  1. (7, 1, 8, 9, 2) ('/', '+', '*', '-') = 133\n",
            "  2. (7, 8, 1, 9, 2) ('+', '/', '*', '-') = 133\n",
            "  3. (7, 8, 9, 1, 2) ('+', '*', '/', '-') = 133\n",
            "\n",
            "DISTRIBUCIÓN DE VALORES:\n",
            "----------------------------\n",
            "Valores negativos: 68 (rango: -68 a -1)\n",
            "Valor cero: SÍ\n",
            "Valores positivos: 129 (rango: 1 a 133)\n",
            "\n",
            "ALGUNOS VALORES FALTANTES:\n",
            "------------------------------\n",
            "  107    120    127    128  "
          ]
        }
      ],
      "source": [
        "# Análisis de los resultados obtenidos\n",
        "print(\"\\nANÁLISIS DE RESULTADOS OBTENIDOS\")\n",
        "print(\"=\" * 30)\n",
        "print(f\"Valores reales - Mínimo: {min_value}, Máximo: {max_value}\")\n",
        "\n",
        "# 2. Análisis de la densidad de valores\n",
        "print(f\"\\nANÁLISIS DE DENSIDAD:\")\n",
        "print(\"-\" * 25)\n",
        "porcentaje_cobertura = (actual_count / expected_count) * 100\n",
        "print(f\"Cobertura: {actual_count}/{expected_count} = {porcentaje_cobertura:.1f}%\")\n",
        "print(f\"Valores faltantes: {len(missing_values)}\")\n",
        "print(f\"¿Hay huecos?: {'SÍ' if missing_values else 'NO'}\")\n",
        "\n",
        "# 3. Mostrar algunos ejemplos de soluciones extremas\n",
        "print(f\"\\nEJEMPLOS DE SOLUCIONES EXTREMAS:\")\n",
        "print(\"-\" * 35)\n",
        "\n",
        "# Buscar ejemplos que den el valor mínimo y máximo\n",
        "ejemplos_min = []\n",
        "ejemplos_max = []\n",
        "\n",
        "for nums in permutations(cifras, 5):\n",
        "    for ops in permutations(operadores):\n",
        "        value = evaluar_expresion(nums, ops)\n",
        "        if value is not None and value == int(value):\n",
        "            if int(value) == min_value and len(ejemplos_min) < 3:\n",
        "                ejemplos_min.append((nums, ops, int(value)))\n",
        "            if int(value) == max_value and len(ejemplos_max) < 3:\n",
        "                ejemplos_max.append((nums, ops, int(value)))\n",
        "\n",
        "print(f\"Ejemplos que dan el MÍNIMO ({min_value}):\")\n",
        "for i, (nums, ops, val) in enumerate(ejemplos_min[:3]):\n",
        "    print(f\"  {i+1}. {nums} {ops} = {val}\")\n",
        "\n",
        "print(f\"\\nEjemplos que dan el MÁXIMO ({max_value}):\")\n",
        "for i, (nums, ops, val) in enumerate(ejemplos_max[:3]):\n",
        "    print(f\"  {i+1}. {nums} {ops} = {val}\")\n",
        "\n",
        "# 4. Análisis de distribución\n",
        "print(f\"\\nDISTRIBUCIÓN DE VALORES:\")\n",
        "print(\"-\" * 28)\n",
        "valores_negativos = [x for x in all_results if x < 0]\n",
        "valores_positivos = [x for x in all_results if x > 0]\n",
        "valor_cero = 0 in all_results\n",
        "\n",
        "print(f\"Valores negativos: {len(valores_negativos)} (rango: {min(valores_negativos)} a -1)\")\n",
        "print(f\"Valor cero: {'SÍ' if valor_cero else 'NO'}\")\n",
        "print(f\"Valores positivos: {len(valores_positivos)} (rango: 1 a {max(valores_positivos)})\")\n",
        "\n",
        "# 5. Verificar algunos valores faltantes específicos\n",
        "print(f\"\\nALGUNOS VALORES FALTANTES:\")\n",
        "print(\"-\" * 30)\n",
        "for i, val in enumerate(missing_values[:10]):\n",
        "    print(f\"  {val}\", end=\"  \")\n",
        "    if (i + 1) % 10 == 0:\n",
        "        print()\n"
      ]
    },
    {
      "cell_type": "markdown",
      "metadata": {
        "id": "eTFWUJQrtGcv"
      },
      "source": [
        "Enumera las referencias que has utilizado(si ha sido necesario) para llevar a cabo el trabajo"
      ]
    },
    {
      "cell_type": "markdown",
      "metadata": {
        "id": "YKQ_mRBttWsP"
      },
      "source": [
        "Respuesta\n",
        "\n",
        "**Referencias utilizadas:**\n",
        "\n",
        "1. Documentación oficial de Python - https://docs.python.org/3/library/itertools para el uso de:\n",
        "   - `itertools.permutations()` para generar permutaciones sin repetición\n",
        "   - `math.perm()` y `math.factorial()` para cálculos combinatorios\n",
        "   - Manejo de excepciones (try/except) para división por cero\n",
        "\n",
        "2. Artículo sobre evaluación de expresiones matemáticas en Python: https://realpython.com/python-eval-function/\n",
        "\n",
        "3. Temario de la asignatura y apuntes de clase:  \n",
        "   - Algoritmos de fuerza bruta y búsqueda exhaustiva\n",
        "   - Técnicas de poda temprana para optimización\n",
        "   - Análisis de complejidad temporal y espacial\n",
        "\n"
      ]
    },
    {
      "cell_type": "markdown",
      "metadata": {
        "id": "kAkDPUyRtYyH"
      },
      "source": [
        "Describe brevemente las lineas de como crees que es posible avanzar en el estudio del problema. Ten en cuenta incluso posibles variaciones del problema y/o variaciones al alza del tamaño"
      ]
    },
    {
      "cell_type": "markdown",
      "metadata": {
        "id": "IE0uZmo-tZu-"
      },
      "source": [
        "Respuesta\n",
        "\n",
        "**Líneas futuras de investigación y variaciones del problema:**\n",
        "\n",
        "Podemos pensar en extender el espacio de soluciones considerando más cifras (por ejemplo, incluir el 0 o usar todas las cifras del 0 al 9) y permitir expresiones más largas con más operadores. También sería interesante introducir nuevas operaciones como la potenciación, el módulo o incluso funciones matemáticas como raíces cuadradas, lo que abriría nuevas posibilidades de cálculo y aumentaría significativamente la riqueza del conjunto de resultados obtenibles.\n",
        "\n",
        "Otra variación interesante es permitir el uso de paréntesis, lo cual cambia completamente la forma de evaluar las expresiones y añade una nueva capa de complejidad tanto en la representación de las soluciones como en los algoritmos utilizados. Asimismo, podríamos estudiar versiones del problema donde se permita repetir cifras u operadores, lo que modificaría drásticamente el espacio de búsqueda.\n",
        "\n",
        "Desde el punto de vista de la aplicación práctica, también podemos reformular el problema como uno de búsqueda de un objetivo específico, en lugar de explorar todos los valores alcanzables. Esto nos llevaría a replantear el algoritmo desde una perspectiva de optimización: encontrar la expresión que se acerque más a un valor dado. Este cambio de enfoque abre la puerta al uso de técnicas como algoritmos genéticos, hill climbing o backtracking con heurísticas, especialmente útiles cuando el tamaño del problema crece.\n",
        "\n",
        "Para mejorar el rendimiento del algoritmo, se pueden implementar estrategias como programación dinámica para evitar recalcular expresiones parciales, o poda temprana avanzada basada en modelos predictivos del comportamiento numérico."
      ]
    }
  ],
  "metadata": {
    "colab": {
      "provenance": [],
      "include_colab_link": true
    },
    "kernelspec": {
      "display_name": "Python 3",
      "name": "python3"
    },
    "language_info": {
      "codemirror_mode": {
        "name": "ipython",
        "version": 3
      },
      "file_extension": ".py",
      "mimetype": "text/x-python",
      "name": "python",
      "nbconvert_exporter": "python",
      "pygments_lexer": "ipython3",
      "version": "3.13.1"
    }
  },
  "nbformat": 4,
  "nbformat_minor": 0
}